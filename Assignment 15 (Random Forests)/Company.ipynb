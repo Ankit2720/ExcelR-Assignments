{
 "cells": [
  {
   "cell_type": "markdown",
   "id": "563b32cb",
   "metadata": {},
   "source": [
    "# Question \n",
    "## A cloth manufacturing company is interested to know about the segment or attributes causes high sale. \n",
    "- Approach - A Random Forest can be built with target variable Sales (we will first convert it in categorical variable) & all other variable will be independent in the analysis.  \n"
   ]
  },
  {
   "cell_type": "code",
   "execution_count": 1,
   "id": "4f9edfb7",
   "metadata": {
    "ExecuteTime": {
     "end_time": "2022-05-31T18:32:03.180285Z",
     "start_time": "2022-05-31T18:31:59.985527Z"
    }
   },
   "outputs": [],
   "source": [
    "import pandas as pd\n",
    "import numpy as np\n",
    "import matplotlib.pyplot as plt\n",
    "from sklearn.model_selection import train_test_split\n",
    "from sklearn.ensemble import RandomForestClassifier\n",
    "from sklearn.model_selection import KFold\n",
    "from sklearn.model_selection import cross_val_score\n",
    "from sklearn import preprocessing\n",
    "from sklearn import tree\n",
    "from sklearn.metrics import accuracy_score\n",
    "from sklearn.metrics import confusion_matrix\n",
    "import seaborn as sns"
   ]
  },
  {
   "cell_type": "code",
   "execution_count": 2,
   "id": "0f1d293a",
   "metadata": {
    "ExecuteTime": {
     "end_time": "2022-05-31T18:32:03.259545Z",
     "start_time": "2022-05-31T18:32:03.184569Z"
    }
   },
   "outputs": [
    {
     "data": {
      "text/html": [
       "<div>\n",
       "<style scoped>\n",
       "    .dataframe tbody tr th:only-of-type {\n",
       "        vertical-align: middle;\n",
       "    }\n",
       "\n",
       "    .dataframe tbody tr th {\n",
       "        vertical-align: top;\n",
       "    }\n",
       "\n",
       "    .dataframe thead th {\n",
       "        text-align: right;\n",
       "    }\n",
       "</style>\n",
       "<table border=\"1\" class=\"dataframe\">\n",
       "  <thead>\n",
       "    <tr style=\"text-align: right;\">\n",
       "      <th></th>\n",
       "      <th>Sales</th>\n",
       "      <th>CompPrice</th>\n",
       "      <th>Income</th>\n",
       "      <th>Advertising</th>\n",
       "      <th>Population</th>\n",
       "      <th>Price</th>\n",
       "      <th>ShelveLoc</th>\n",
       "      <th>Age</th>\n",
       "      <th>Education</th>\n",
       "      <th>Urban</th>\n",
       "      <th>US</th>\n",
       "    </tr>\n",
       "  </thead>\n",
       "  <tbody>\n",
       "    <tr>\n",
       "      <th>0</th>\n",
       "      <td>9.50</td>\n",
       "      <td>138</td>\n",
       "      <td>73</td>\n",
       "      <td>11</td>\n",
       "      <td>276</td>\n",
       "      <td>120</td>\n",
       "      <td>Bad</td>\n",
       "      <td>42</td>\n",
       "      <td>17</td>\n",
       "      <td>Yes</td>\n",
       "      <td>Yes</td>\n",
       "    </tr>\n",
       "    <tr>\n",
       "      <th>1</th>\n",
       "      <td>11.22</td>\n",
       "      <td>111</td>\n",
       "      <td>48</td>\n",
       "      <td>16</td>\n",
       "      <td>260</td>\n",
       "      <td>83</td>\n",
       "      <td>Good</td>\n",
       "      <td>65</td>\n",
       "      <td>10</td>\n",
       "      <td>Yes</td>\n",
       "      <td>Yes</td>\n",
       "    </tr>\n",
       "    <tr>\n",
       "      <th>2</th>\n",
       "      <td>10.06</td>\n",
       "      <td>113</td>\n",
       "      <td>35</td>\n",
       "      <td>10</td>\n",
       "      <td>269</td>\n",
       "      <td>80</td>\n",
       "      <td>Medium</td>\n",
       "      <td>59</td>\n",
       "      <td>12</td>\n",
       "      <td>Yes</td>\n",
       "      <td>Yes</td>\n",
       "    </tr>\n",
       "    <tr>\n",
       "      <th>3</th>\n",
       "      <td>7.40</td>\n",
       "      <td>117</td>\n",
       "      <td>100</td>\n",
       "      <td>4</td>\n",
       "      <td>466</td>\n",
       "      <td>97</td>\n",
       "      <td>Medium</td>\n",
       "      <td>55</td>\n",
       "      <td>14</td>\n",
       "      <td>Yes</td>\n",
       "      <td>Yes</td>\n",
       "    </tr>\n",
       "    <tr>\n",
       "      <th>4</th>\n",
       "      <td>4.15</td>\n",
       "      <td>141</td>\n",
       "      <td>64</td>\n",
       "      <td>3</td>\n",
       "      <td>340</td>\n",
       "      <td>128</td>\n",
       "      <td>Bad</td>\n",
       "      <td>38</td>\n",
       "      <td>13</td>\n",
       "      <td>Yes</td>\n",
       "      <td>No</td>\n",
       "    </tr>\n",
       "    <tr>\n",
       "      <th>...</th>\n",
       "      <td>...</td>\n",
       "      <td>...</td>\n",
       "      <td>...</td>\n",
       "      <td>...</td>\n",
       "      <td>...</td>\n",
       "      <td>...</td>\n",
       "      <td>...</td>\n",
       "      <td>...</td>\n",
       "      <td>...</td>\n",
       "      <td>...</td>\n",
       "      <td>...</td>\n",
       "    </tr>\n",
       "    <tr>\n",
       "      <th>395</th>\n",
       "      <td>12.57</td>\n",
       "      <td>138</td>\n",
       "      <td>108</td>\n",
       "      <td>17</td>\n",
       "      <td>203</td>\n",
       "      <td>128</td>\n",
       "      <td>Good</td>\n",
       "      <td>33</td>\n",
       "      <td>14</td>\n",
       "      <td>Yes</td>\n",
       "      <td>Yes</td>\n",
       "    </tr>\n",
       "    <tr>\n",
       "      <th>396</th>\n",
       "      <td>6.14</td>\n",
       "      <td>139</td>\n",
       "      <td>23</td>\n",
       "      <td>3</td>\n",
       "      <td>37</td>\n",
       "      <td>120</td>\n",
       "      <td>Medium</td>\n",
       "      <td>55</td>\n",
       "      <td>11</td>\n",
       "      <td>No</td>\n",
       "      <td>Yes</td>\n",
       "    </tr>\n",
       "    <tr>\n",
       "      <th>397</th>\n",
       "      <td>7.41</td>\n",
       "      <td>162</td>\n",
       "      <td>26</td>\n",
       "      <td>12</td>\n",
       "      <td>368</td>\n",
       "      <td>159</td>\n",
       "      <td>Medium</td>\n",
       "      <td>40</td>\n",
       "      <td>18</td>\n",
       "      <td>Yes</td>\n",
       "      <td>Yes</td>\n",
       "    </tr>\n",
       "    <tr>\n",
       "      <th>398</th>\n",
       "      <td>5.94</td>\n",
       "      <td>100</td>\n",
       "      <td>79</td>\n",
       "      <td>7</td>\n",
       "      <td>284</td>\n",
       "      <td>95</td>\n",
       "      <td>Bad</td>\n",
       "      <td>50</td>\n",
       "      <td>12</td>\n",
       "      <td>Yes</td>\n",
       "      <td>Yes</td>\n",
       "    </tr>\n",
       "    <tr>\n",
       "      <th>399</th>\n",
       "      <td>9.71</td>\n",
       "      <td>134</td>\n",
       "      <td>37</td>\n",
       "      <td>0</td>\n",
       "      <td>27</td>\n",
       "      <td>120</td>\n",
       "      <td>Good</td>\n",
       "      <td>49</td>\n",
       "      <td>16</td>\n",
       "      <td>Yes</td>\n",
       "      <td>Yes</td>\n",
       "    </tr>\n",
       "  </tbody>\n",
       "</table>\n",
       "<p>400 rows × 11 columns</p>\n",
       "</div>"
      ],
      "text/plain": [
       "     Sales  CompPrice  Income  Advertising  Population  Price ShelveLoc  Age  \\\n",
       "0     9.50        138      73           11         276    120       Bad   42   \n",
       "1    11.22        111      48           16         260     83      Good   65   \n",
       "2    10.06        113      35           10         269     80    Medium   59   \n",
       "3     7.40        117     100            4         466     97    Medium   55   \n",
       "4     4.15        141      64            3         340    128       Bad   38   \n",
       "..     ...        ...     ...          ...         ...    ...       ...  ...   \n",
       "395  12.57        138     108           17         203    128      Good   33   \n",
       "396   6.14        139      23            3          37    120    Medium   55   \n",
       "397   7.41        162      26           12         368    159    Medium   40   \n",
       "398   5.94        100      79            7         284     95       Bad   50   \n",
       "399   9.71        134      37            0          27    120      Good   49   \n",
       "\n",
       "     Education Urban   US  \n",
       "0           17   Yes  Yes  \n",
       "1           10   Yes  Yes  \n",
       "2           12   Yes  Yes  \n",
       "3           14   Yes  Yes  \n",
       "4           13   Yes   No  \n",
       "..         ...   ...  ...  \n",
       "395         14   Yes  Yes  \n",
       "396         11    No  Yes  \n",
       "397         18   Yes  Yes  \n",
       "398         12   Yes  Yes  \n",
       "399         16   Yes  Yes  \n",
       "\n",
       "[400 rows x 11 columns]"
      ]
     },
     "execution_count": 2,
     "metadata": {},
     "output_type": "execute_result"
    }
   ],
   "source": [
    "cd = pd.read_csv('D:\\\\Data Science\\\\Assignment 15\\\\Raw data\\\\Company_Data.csv')\n",
    "cd"
   ]
  },
  {
   "cell_type": "code",
   "execution_count": 3,
   "id": "62113eec",
   "metadata": {
    "ExecuteTime": {
     "end_time": "2022-05-31T18:32:03.336520Z",
     "start_time": "2022-05-31T18:32:03.263545Z"
    }
   },
   "outputs": [
    {
     "data": {
      "text/html": [
       "<div>\n",
       "<style scoped>\n",
       "    .dataframe tbody tr th:only-of-type {\n",
       "        vertical-align: middle;\n",
       "    }\n",
       "\n",
       "    .dataframe tbody tr th {\n",
       "        vertical-align: top;\n",
       "    }\n",
       "\n",
       "    .dataframe thead th {\n",
       "        text-align: right;\n",
       "    }\n",
       "</style>\n",
       "<table border=\"1\" class=\"dataframe\">\n",
       "  <thead>\n",
       "    <tr style=\"text-align: right;\">\n",
       "      <th></th>\n",
       "      <th>Sales</th>\n",
       "      <th>CompPrice</th>\n",
       "      <th>Income</th>\n",
       "      <th>Advertising</th>\n",
       "      <th>Population</th>\n",
       "      <th>Price</th>\n",
       "      <th>Age</th>\n",
       "      <th>Education</th>\n",
       "    </tr>\n",
       "  </thead>\n",
       "  <tbody>\n",
       "    <tr>\n",
       "      <th>count</th>\n",
       "      <td>400.000000</td>\n",
       "      <td>400.000000</td>\n",
       "      <td>400.000000</td>\n",
       "      <td>400.000000</td>\n",
       "      <td>400.000000</td>\n",
       "      <td>400.000000</td>\n",
       "      <td>400.000000</td>\n",
       "      <td>400.000000</td>\n",
       "    </tr>\n",
       "    <tr>\n",
       "      <th>mean</th>\n",
       "      <td>7.496325</td>\n",
       "      <td>124.975000</td>\n",
       "      <td>68.657500</td>\n",
       "      <td>6.635000</td>\n",
       "      <td>264.840000</td>\n",
       "      <td>115.795000</td>\n",
       "      <td>53.322500</td>\n",
       "      <td>13.900000</td>\n",
       "    </tr>\n",
       "    <tr>\n",
       "      <th>std</th>\n",
       "      <td>2.824115</td>\n",
       "      <td>15.334512</td>\n",
       "      <td>27.986037</td>\n",
       "      <td>6.650364</td>\n",
       "      <td>147.376436</td>\n",
       "      <td>23.676664</td>\n",
       "      <td>16.200297</td>\n",
       "      <td>2.620528</td>\n",
       "    </tr>\n",
       "    <tr>\n",
       "      <th>min</th>\n",
       "      <td>0.000000</td>\n",
       "      <td>77.000000</td>\n",
       "      <td>21.000000</td>\n",
       "      <td>0.000000</td>\n",
       "      <td>10.000000</td>\n",
       "      <td>24.000000</td>\n",
       "      <td>25.000000</td>\n",
       "      <td>10.000000</td>\n",
       "    </tr>\n",
       "    <tr>\n",
       "      <th>25%</th>\n",
       "      <td>5.390000</td>\n",
       "      <td>115.000000</td>\n",
       "      <td>42.750000</td>\n",
       "      <td>0.000000</td>\n",
       "      <td>139.000000</td>\n",
       "      <td>100.000000</td>\n",
       "      <td>39.750000</td>\n",
       "      <td>12.000000</td>\n",
       "    </tr>\n",
       "    <tr>\n",
       "      <th>50%</th>\n",
       "      <td>7.490000</td>\n",
       "      <td>125.000000</td>\n",
       "      <td>69.000000</td>\n",
       "      <td>5.000000</td>\n",
       "      <td>272.000000</td>\n",
       "      <td>117.000000</td>\n",
       "      <td>54.500000</td>\n",
       "      <td>14.000000</td>\n",
       "    </tr>\n",
       "    <tr>\n",
       "      <th>75%</th>\n",
       "      <td>9.320000</td>\n",
       "      <td>135.000000</td>\n",
       "      <td>91.000000</td>\n",
       "      <td>12.000000</td>\n",
       "      <td>398.500000</td>\n",
       "      <td>131.000000</td>\n",
       "      <td>66.000000</td>\n",
       "      <td>16.000000</td>\n",
       "    </tr>\n",
       "    <tr>\n",
       "      <th>max</th>\n",
       "      <td>16.270000</td>\n",
       "      <td>175.000000</td>\n",
       "      <td>120.000000</td>\n",
       "      <td>29.000000</td>\n",
       "      <td>509.000000</td>\n",
       "      <td>191.000000</td>\n",
       "      <td>80.000000</td>\n",
       "      <td>18.000000</td>\n",
       "    </tr>\n",
       "  </tbody>\n",
       "</table>\n",
       "</div>"
      ],
      "text/plain": [
       "            Sales   CompPrice      Income  Advertising  Population  \\\n",
       "count  400.000000  400.000000  400.000000   400.000000  400.000000   \n",
       "mean     7.496325  124.975000   68.657500     6.635000  264.840000   \n",
       "std      2.824115   15.334512   27.986037     6.650364  147.376436   \n",
       "min      0.000000   77.000000   21.000000     0.000000   10.000000   \n",
       "25%      5.390000  115.000000   42.750000     0.000000  139.000000   \n",
       "50%      7.490000  125.000000   69.000000     5.000000  272.000000   \n",
       "75%      9.320000  135.000000   91.000000    12.000000  398.500000   \n",
       "max     16.270000  175.000000  120.000000    29.000000  509.000000   \n",
       "\n",
       "            Price         Age   Education  \n",
       "count  400.000000  400.000000  400.000000  \n",
       "mean   115.795000   53.322500   13.900000  \n",
       "std     23.676664   16.200297    2.620528  \n",
       "min     24.000000   25.000000   10.000000  \n",
       "25%    100.000000   39.750000   12.000000  \n",
       "50%    117.000000   54.500000   14.000000  \n",
       "75%    131.000000   66.000000   16.000000  \n",
       "max    191.000000   80.000000   18.000000  "
      ]
     },
     "execution_count": 3,
     "metadata": {},
     "output_type": "execute_result"
    }
   ],
   "source": [
    "cd.describe()"
   ]
  },
  {
   "cell_type": "code",
   "execution_count": 4,
   "id": "731aa59f",
   "metadata": {
    "ExecuteTime": {
     "end_time": "2022-05-31T18:32:03.382504Z",
     "start_time": "2022-05-31T18:32:03.341520Z"
    },
    "scrolled": false
   },
   "outputs": [
    {
     "name": "stdout",
     "output_type": "stream",
     "text": [
      "<class 'pandas.core.frame.DataFrame'>\n",
      "RangeIndex: 400 entries, 0 to 399\n",
      "Data columns (total 11 columns):\n",
      " #   Column       Non-Null Count  Dtype  \n",
      "---  ------       --------------  -----  \n",
      " 0   Sales        400 non-null    float64\n",
      " 1   CompPrice    400 non-null    int64  \n",
      " 2   Income       400 non-null    int64  \n",
      " 3   Advertising  400 non-null    int64  \n",
      " 4   Population   400 non-null    int64  \n",
      " 5   Price        400 non-null    int64  \n",
      " 6   ShelveLoc    400 non-null    object \n",
      " 7   Age          400 non-null    int64  \n",
      " 8   Education    400 non-null    int64  \n",
      " 9   Urban        400 non-null    object \n",
      " 10  US           400 non-null    object \n",
      "dtypes: float64(1), int64(7), object(3)\n",
      "memory usage: 34.5+ KB\n"
     ]
    }
   ],
   "source": [
    "cd.info()"
   ]
  },
  {
   "cell_type": "markdown",
   "id": "aecd8b6d",
   "metadata": {},
   "source": [
    "# Performing EDA"
   ]
  },
  {
   "cell_type": "code",
   "execution_count": 5,
   "id": "1b824162",
   "metadata": {
    "ExecuteTime": {
     "end_time": "2022-05-31T18:32:03.428520Z",
     "start_time": "2022-05-31T18:32:03.385506Z"
    }
   },
   "outputs": [
    {
     "data": {
      "text/plain": [
       "False    400\n",
       "dtype: int64"
      ]
     },
     "execution_count": 5,
     "metadata": {},
     "output_type": "execute_result"
    }
   ],
   "source": [
    "cd.duplicated().value_counts()"
   ]
  },
  {
   "cell_type": "code",
   "execution_count": 6,
   "id": "a76b663f",
   "metadata": {
    "ExecuteTime": {
     "end_time": "2022-05-31T18:32:03.460543Z",
     "start_time": "2022-05-31T18:32:03.432520Z"
    }
   },
   "outputs": [],
   "source": [
    "cdnew = cd.copy()\n",
    "cdnew = pd.get_dummies(cd,columns=['ShelveLoc','Urban','US'])"
   ]
  },
  {
   "cell_type": "code",
   "execution_count": 7,
   "id": "1aa61509",
   "metadata": {
    "ExecuteTime": {
     "end_time": "2022-05-31T18:32:03.508520Z",
     "start_time": "2022-05-31T18:32:03.464534Z"
    }
   },
   "outputs": [
    {
     "data": {
      "text/html": [
       "<div>\n",
       "<style scoped>\n",
       "    .dataframe tbody tr th:only-of-type {\n",
       "        vertical-align: middle;\n",
       "    }\n",
       "\n",
       "    .dataframe tbody tr th {\n",
       "        vertical-align: top;\n",
       "    }\n",
       "\n",
       "    .dataframe thead th {\n",
       "        text-align: right;\n",
       "    }\n",
       "</style>\n",
       "<table border=\"1\" class=\"dataframe\">\n",
       "  <thead>\n",
       "    <tr style=\"text-align: right;\">\n",
       "      <th></th>\n",
       "      <th>Sales</th>\n",
       "      <th>CompPrice</th>\n",
       "      <th>Income</th>\n",
       "      <th>Advertising</th>\n",
       "      <th>Population</th>\n",
       "      <th>Price</th>\n",
       "      <th>Age</th>\n",
       "      <th>Education</th>\n",
       "      <th>ShelveLoc_Bad</th>\n",
       "      <th>ShelveLoc_Good</th>\n",
       "      <th>ShelveLoc_Medium</th>\n",
       "      <th>Urban_No</th>\n",
       "      <th>Urban_Yes</th>\n",
       "      <th>US_No</th>\n",
       "      <th>US_Yes</th>\n",
       "    </tr>\n",
       "  </thead>\n",
       "  <tbody>\n",
       "    <tr>\n",
       "      <th>Sales</th>\n",
       "      <td>1.000000</td>\n",
       "      <td>0.064079</td>\n",
       "      <td>0.151951</td>\n",
       "      <td>0.269507</td>\n",
       "      <td>0.050471</td>\n",
       "      <td>-0.444951</td>\n",
       "      <td>-0.231815</td>\n",
       "      <td>-0.051955</td>\n",
       "      <td>-0.393167</td>\n",
       "      <td>0.500510</td>\n",
       "      <td>-0.073999</td>\n",
       "      <td>0.015419</td>\n",
       "      <td>-0.015419</td>\n",
       "      <td>-0.177093</td>\n",
       "      <td>0.177093</td>\n",
       "    </tr>\n",
       "    <tr>\n",
       "      <th>CompPrice</th>\n",
       "      <td>0.064079</td>\n",
       "      <td>1.000000</td>\n",
       "      <td>-0.080653</td>\n",
       "      <td>-0.024199</td>\n",
       "      <td>-0.094707</td>\n",
       "      <td>0.584848</td>\n",
       "      <td>-0.100239</td>\n",
       "      <td>0.025197</td>\n",
       "      <td>-0.035393</td>\n",
       "      <td>0.026386</td>\n",
       "      <td>0.008683</td>\n",
       "      <td>-0.066594</td>\n",
       "      <td>0.066594</td>\n",
       "      <td>-0.016869</td>\n",
       "      <td>0.016869</td>\n",
       "    </tr>\n",
       "    <tr>\n",
       "      <th>Income</th>\n",
       "      <td>0.151951</td>\n",
       "      <td>-0.080653</td>\n",
       "      <td>1.000000</td>\n",
       "      <td>0.058995</td>\n",
       "      <td>-0.007877</td>\n",
       "      <td>-0.056698</td>\n",
       "      <td>-0.004670</td>\n",
       "      <td>-0.056855</td>\n",
       "      <td>0.072017</td>\n",
       "      <td>-0.012657</td>\n",
       "      <td>-0.051392</td>\n",
       "      <td>-0.037967</td>\n",
       "      <td>0.037967</td>\n",
       "      <td>-0.089601</td>\n",
       "      <td>0.089601</td>\n",
       "    </tr>\n",
       "    <tr>\n",
       "      <th>Advertising</th>\n",
       "      <td>0.269507</td>\n",
       "      <td>-0.024199</td>\n",
       "      <td>0.058995</td>\n",
       "      <td>1.000000</td>\n",
       "      <td>0.265652</td>\n",
       "      <td>0.044537</td>\n",
       "      <td>-0.004557</td>\n",
       "      <td>-0.033594</td>\n",
       "      <td>-0.035217</td>\n",
       "      <td>0.056149</td>\n",
       "      <td>-0.015929</td>\n",
       "      <td>-0.042035</td>\n",
       "      <td>0.042035</td>\n",
       "      <td>-0.684460</td>\n",
       "      <td>0.684460</td>\n",
       "    </tr>\n",
       "    <tr>\n",
       "      <th>Population</th>\n",
       "      <td>0.050471</td>\n",
       "      <td>-0.094707</td>\n",
       "      <td>-0.007877</td>\n",
       "      <td>0.265652</td>\n",
       "      <td>1.000000</td>\n",
       "      <td>-0.012144</td>\n",
       "      <td>-0.042663</td>\n",
       "      <td>-0.106378</td>\n",
       "      <td>0.039902</td>\n",
       "      <td>0.007789</td>\n",
       "      <td>-0.040640</td>\n",
       "      <td>0.052025</td>\n",
       "      <td>-0.052025</td>\n",
       "      <td>-0.060564</td>\n",
       "      <td>0.060564</td>\n",
       "    </tr>\n",
       "    <tr>\n",
       "      <th>Price</th>\n",
       "      <td>-0.444951</td>\n",
       "      <td>0.584848</td>\n",
       "      <td>-0.056698</td>\n",
       "      <td>0.044537</td>\n",
       "      <td>-0.012144</td>\n",
       "      <td>1.000000</td>\n",
       "      <td>-0.102177</td>\n",
       "      <td>0.011747</td>\n",
       "      <td>-0.036220</td>\n",
       "      <td>0.045854</td>\n",
       "      <td>-0.006607</td>\n",
       "      <td>-0.047016</td>\n",
       "      <td>0.047016</td>\n",
       "      <td>-0.057861</td>\n",
       "      <td>0.057861</td>\n",
       "    </tr>\n",
       "    <tr>\n",
       "      <th>Age</th>\n",
       "      <td>-0.231815</td>\n",
       "      <td>-0.100239</td>\n",
       "      <td>-0.004670</td>\n",
       "      <td>-0.004557</td>\n",
       "      <td>-0.042663</td>\n",
       "      <td>-0.102177</td>\n",
       "      <td>1.000000</td>\n",
       "      <td>0.006488</td>\n",
       "      <td>-0.044123</td>\n",
       "      <td>-0.022818</td>\n",
       "      <td>0.056613</td>\n",
       "      <td>-0.028479</td>\n",
       "      <td>0.028479</td>\n",
       "      <td>-0.008652</td>\n",
       "      <td>0.008652</td>\n",
       "    </tr>\n",
       "    <tr>\n",
       "      <th>Education</th>\n",
       "      <td>-0.051955</td>\n",
       "      <td>0.025197</td>\n",
       "      <td>-0.056855</td>\n",
       "      <td>-0.033594</td>\n",
       "      <td>-0.106378</td>\n",
       "      <td>0.011747</td>\n",
       "      <td>0.006488</td>\n",
       "      <td>1.000000</td>\n",
       "      <td>0.012525</td>\n",
       "      <td>-0.029188</td>\n",
       "      <td>0.013242</td>\n",
       "      <td>0.033094</td>\n",
       "      <td>-0.033094</td>\n",
       "      <td>0.078250</td>\n",
       "      <td>-0.078250</td>\n",
       "    </tr>\n",
       "    <tr>\n",
       "      <th>ShelveLoc_Bad</th>\n",
       "      <td>-0.393167</td>\n",
       "      <td>-0.035393</td>\n",
       "      <td>0.072017</td>\n",
       "      <td>-0.035217</td>\n",
       "      <td>0.039902</td>\n",
       "      <td>-0.036220</td>\n",
       "      <td>-0.044123</td>\n",
       "      <td>0.012525</td>\n",
       "      <td>1.000000</td>\n",
       "      <td>-0.291913</td>\n",
       "      <td>-0.618133</td>\n",
       "      <td>-0.081122</td>\n",
       "      <td>0.081122</td>\n",
       "      <td>-0.000979</td>\n",
       "      <td>0.000979</td>\n",
       "    </tr>\n",
       "    <tr>\n",
       "      <th>ShelveLoc_Good</th>\n",
       "      <td>0.500510</td>\n",
       "      <td>0.026386</td>\n",
       "      <td>-0.012657</td>\n",
       "      <td>0.056149</td>\n",
       "      <td>0.007789</td>\n",
       "      <td>0.045854</td>\n",
       "      <td>-0.022818</td>\n",
       "      <td>-0.029188</td>\n",
       "      <td>-0.291913</td>\n",
       "      <td>1.000000</td>\n",
       "      <td>-0.571396</td>\n",
       "      <td>0.039197</td>\n",
       "      <td>-0.039197</td>\n",
       "      <td>-0.078864</td>\n",
       "      <td>0.078864</td>\n",
       "    </tr>\n",
       "    <tr>\n",
       "      <th>ShelveLoc_Medium</th>\n",
       "      <td>-0.073999</td>\n",
       "      <td>0.008683</td>\n",
       "      <td>-0.051392</td>\n",
       "      <td>-0.015929</td>\n",
       "      <td>-0.040640</td>\n",
       "      <td>-0.006607</td>\n",
       "      <td>0.056613</td>\n",
       "      <td>0.013242</td>\n",
       "      <td>-0.618133</td>\n",
       "      <td>-0.571396</td>\n",
       "      <td>1.000000</td>\n",
       "      <td>0.037391</td>\n",
       "      <td>-0.037391</td>\n",
       "      <td>0.065656</td>\n",
       "      <td>-0.065656</td>\n",
       "    </tr>\n",
       "    <tr>\n",
       "      <th>Urban_No</th>\n",
       "      <td>0.015419</td>\n",
       "      <td>-0.066594</td>\n",
       "      <td>-0.037967</td>\n",
       "      <td>-0.042035</td>\n",
       "      <td>0.052025</td>\n",
       "      <td>-0.047016</td>\n",
       "      <td>-0.028479</td>\n",
       "      <td>0.033094</td>\n",
       "      <td>-0.081122</td>\n",
       "      <td>0.039197</td>\n",
       "      <td>0.037391</td>\n",
       "      <td>1.000000</td>\n",
       "      <td>-1.000000</td>\n",
       "      <td>0.047085</td>\n",
       "      <td>-0.047085</td>\n",
       "    </tr>\n",
       "    <tr>\n",
       "      <th>Urban_Yes</th>\n",
       "      <td>-0.015419</td>\n",
       "      <td>0.066594</td>\n",
       "      <td>0.037967</td>\n",
       "      <td>0.042035</td>\n",
       "      <td>-0.052025</td>\n",
       "      <td>0.047016</td>\n",
       "      <td>0.028479</td>\n",
       "      <td>-0.033094</td>\n",
       "      <td>0.081122</td>\n",
       "      <td>-0.039197</td>\n",
       "      <td>-0.037391</td>\n",
       "      <td>-1.000000</td>\n",
       "      <td>1.000000</td>\n",
       "      <td>-0.047085</td>\n",
       "      <td>0.047085</td>\n",
       "    </tr>\n",
       "    <tr>\n",
       "      <th>US_No</th>\n",
       "      <td>-0.177093</td>\n",
       "      <td>-0.016869</td>\n",
       "      <td>-0.089601</td>\n",
       "      <td>-0.684460</td>\n",
       "      <td>-0.060564</td>\n",
       "      <td>-0.057861</td>\n",
       "      <td>-0.008652</td>\n",
       "      <td>0.078250</td>\n",
       "      <td>-0.000979</td>\n",
       "      <td>-0.078864</td>\n",
       "      <td>0.065656</td>\n",
       "      <td>0.047085</td>\n",
       "      <td>-0.047085</td>\n",
       "      <td>1.000000</td>\n",
       "      <td>-1.000000</td>\n",
       "    </tr>\n",
       "    <tr>\n",
       "      <th>US_Yes</th>\n",
       "      <td>0.177093</td>\n",
       "      <td>0.016869</td>\n",
       "      <td>0.089601</td>\n",
       "      <td>0.684460</td>\n",
       "      <td>0.060564</td>\n",
       "      <td>0.057861</td>\n",
       "      <td>0.008652</td>\n",
       "      <td>-0.078250</td>\n",
       "      <td>0.000979</td>\n",
       "      <td>0.078864</td>\n",
       "      <td>-0.065656</td>\n",
       "      <td>-0.047085</td>\n",
       "      <td>0.047085</td>\n",
       "      <td>-1.000000</td>\n",
       "      <td>1.000000</td>\n",
       "    </tr>\n",
       "  </tbody>\n",
       "</table>\n",
       "</div>"
      ],
      "text/plain": [
       "                     Sales  CompPrice    Income  Advertising  Population  \\\n",
       "Sales             1.000000   0.064079  0.151951     0.269507    0.050471   \n",
       "CompPrice         0.064079   1.000000 -0.080653    -0.024199   -0.094707   \n",
       "Income            0.151951  -0.080653  1.000000     0.058995   -0.007877   \n",
       "Advertising       0.269507  -0.024199  0.058995     1.000000    0.265652   \n",
       "Population        0.050471  -0.094707 -0.007877     0.265652    1.000000   \n",
       "Price            -0.444951   0.584848 -0.056698     0.044537   -0.012144   \n",
       "Age              -0.231815  -0.100239 -0.004670    -0.004557   -0.042663   \n",
       "Education        -0.051955   0.025197 -0.056855    -0.033594   -0.106378   \n",
       "ShelveLoc_Bad    -0.393167  -0.035393  0.072017    -0.035217    0.039902   \n",
       "ShelveLoc_Good    0.500510   0.026386 -0.012657     0.056149    0.007789   \n",
       "ShelveLoc_Medium -0.073999   0.008683 -0.051392    -0.015929   -0.040640   \n",
       "Urban_No          0.015419  -0.066594 -0.037967    -0.042035    0.052025   \n",
       "Urban_Yes        -0.015419   0.066594  0.037967     0.042035   -0.052025   \n",
       "US_No            -0.177093  -0.016869 -0.089601    -0.684460   -0.060564   \n",
       "US_Yes            0.177093   0.016869  0.089601     0.684460    0.060564   \n",
       "\n",
       "                     Price       Age  Education  ShelveLoc_Bad  \\\n",
       "Sales            -0.444951 -0.231815  -0.051955      -0.393167   \n",
       "CompPrice         0.584848 -0.100239   0.025197      -0.035393   \n",
       "Income           -0.056698 -0.004670  -0.056855       0.072017   \n",
       "Advertising       0.044537 -0.004557  -0.033594      -0.035217   \n",
       "Population       -0.012144 -0.042663  -0.106378       0.039902   \n",
       "Price             1.000000 -0.102177   0.011747      -0.036220   \n",
       "Age              -0.102177  1.000000   0.006488      -0.044123   \n",
       "Education         0.011747  0.006488   1.000000       0.012525   \n",
       "ShelveLoc_Bad    -0.036220 -0.044123   0.012525       1.000000   \n",
       "ShelveLoc_Good    0.045854 -0.022818  -0.029188      -0.291913   \n",
       "ShelveLoc_Medium -0.006607  0.056613   0.013242      -0.618133   \n",
       "Urban_No         -0.047016 -0.028479   0.033094      -0.081122   \n",
       "Urban_Yes         0.047016  0.028479  -0.033094       0.081122   \n",
       "US_No            -0.057861 -0.008652   0.078250      -0.000979   \n",
       "US_Yes            0.057861  0.008652  -0.078250       0.000979   \n",
       "\n",
       "                  ShelveLoc_Good  ShelveLoc_Medium  Urban_No  Urban_Yes  \\\n",
       "Sales                   0.500510         -0.073999  0.015419  -0.015419   \n",
       "CompPrice               0.026386          0.008683 -0.066594   0.066594   \n",
       "Income                 -0.012657         -0.051392 -0.037967   0.037967   \n",
       "Advertising             0.056149         -0.015929 -0.042035   0.042035   \n",
       "Population              0.007789         -0.040640  0.052025  -0.052025   \n",
       "Price                   0.045854         -0.006607 -0.047016   0.047016   \n",
       "Age                    -0.022818          0.056613 -0.028479   0.028479   \n",
       "Education              -0.029188          0.013242  0.033094  -0.033094   \n",
       "ShelveLoc_Bad          -0.291913         -0.618133 -0.081122   0.081122   \n",
       "ShelveLoc_Good          1.000000         -0.571396  0.039197  -0.039197   \n",
       "ShelveLoc_Medium       -0.571396          1.000000  0.037391  -0.037391   \n",
       "Urban_No                0.039197          0.037391  1.000000  -1.000000   \n",
       "Urban_Yes              -0.039197         -0.037391 -1.000000   1.000000   \n",
       "US_No                  -0.078864          0.065656  0.047085  -0.047085   \n",
       "US_Yes                  0.078864         -0.065656 -0.047085   0.047085   \n",
       "\n",
       "                     US_No    US_Yes  \n",
       "Sales            -0.177093  0.177093  \n",
       "CompPrice        -0.016869  0.016869  \n",
       "Income           -0.089601  0.089601  \n",
       "Advertising      -0.684460  0.684460  \n",
       "Population       -0.060564  0.060564  \n",
       "Price            -0.057861  0.057861  \n",
       "Age              -0.008652  0.008652  \n",
       "Education         0.078250 -0.078250  \n",
       "ShelveLoc_Bad    -0.000979  0.000979  \n",
       "ShelveLoc_Good   -0.078864  0.078864  \n",
       "ShelveLoc_Medium  0.065656 -0.065656  \n",
       "Urban_No          0.047085 -0.047085  \n",
       "Urban_Yes        -0.047085  0.047085  \n",
       "US_No             1.000000 -1.000000  \n",
       "US_Yes           -1.000000  1.000000  "
      ]
     },
     "execution_count": 7,
     "metadata": {},
     "output_type": "execute_result"
    }
   ],
   "source": [
    "cdnew.corr()"
   ]
  },
  {
   "cell_type": "code",
   "execution_count": 8,
   "id": "0348d5d6",
   "metadata": {
    "ExecuteTime": {
     "end_time": "2022-05-31T18:32:03.744280Z",
     "start_time": "2022-05-31T18:32:03.512519Z"
    },
    "scrolled": false
   },
   "outputs": [
    {
     "name": "stderr",
     "output_type": "stream",
     "text": [
      "C:\\Users\\ankit\\anaconda3\\lib\\site-packages\\seaborn\\_decorators.py:36: FutureWarning: Pass the following variable as a keyword arg: x. From version 0.12, the only valid positional argument will be `data`, and passing other arguments without an explicit keyword will result in an error or misinterpretation.\n",
      "  warnings.warn(\n"
     ]
    },
    {
     "data": {
      "image/png": "[encoded data removed]",
      "text/plain": [
       "<Figure size 432x288 with 1 Axes>"
      ]
     },
     "metadata": {
      "needs_background": "light"
     },
     "output_type": "display_data"
    }
   ],
   "source": [
    "sns.boxplot(cd['Sales'])\n",
    "plt.show()"
   ]
  },
  {
   "cell_type": "markdown",
   "id": "4c1118dd",
   "metadata": {},
   "source": [
    "### The Data has 2 Outiers."
   ]
  },
  {
   "cell_type": "code",
   "execution_count": 9,
   "id": "c8889012",
   "metadata": {
    "ExecuteTime": {
     "end_time": "2022-05-31T18:32:04.079427Z",
     "start_time": "2022-05-31T18:32:03.748261Z"
    },
    "scrolled": false
   },
   "outputs": [
    {
     "name": "stdout",
     "output_type": "stream",
     "text": [
      "Skew: 0.18556036318721578\n",
      "Kurtosis: -0.08087736743346197\n"
     ]
    },
    {
     "data": {
      "image/png": "[encoded data removed]",
      "text/plain": [
       "<Figure size 1152x360 with 1 Axes>"
      ]
     },
     "metadata": {
      "needs_background": "light"
     },
     "output_type": "display_data"
    }
   ],
   "source": [
    "plt.figure(figsize=(16,5))\n",
    "print(\"Skew: {}\".format(cd['Sales'].skew()))\n",
    "print(\"Kurtosis: {}\".format(cd['Sales'].kurtosis()))\n",
    "ax = sns.kdeplot(cd['Sales'],shade=True,color='g')\n",
    "plt.xticks([i for i in range(0,20,1)])\n",
    "plt.show()"
   ]
  },
  {
   "cell_type": "markdown",
   "id": "3bfb1b2a",
   "metadata": {},
   "source": [
    "#### Most sales are between 2 to 13 Thousands."
   ]
  },
  {
   "cell_type": "code",
   "execution_count": 10,
   "id": "f79984c6",
   "metadata": {
    "ExecuteTime": {
     "end_time": "2022-05-31T18:32:04.110420Z",
     "start_time": "2022-05-31T18:32:04.087425Z"
    }
   },
   "outputs": [
    {
     "data": {
      "text/plain": [
       "['ShelveLoc', 'Urban', 'US']"
      ]
     },
     "execution_count": 10,
     "metadata": {},
     "output_type": "execute_result"
    }
   ],
   "source": [
    "obj = cd.select_dtypes(include='object').columns.tolist()\n",
    "obj"
   ]
  },
  {
   "cell_type": "code",
   "execution_count": 11,
   "id": "3b49ba36",
   "metadata": {
    "ExecuteTime": {
     "end_time": "2022-05-31T18:32:04.610370Z",
     "start_time": "2022-05-31T18:32:04.114414Z"
    },
    "scrolled": false
   },
   "outputs": [
    {
     "name": "stderr",
     "output_type": "stream",
     "text": [
      "C:\\Users\\ankit\\anaconda3\\lib\\site-packages\\seaborn\\_decorators.py:36: FutureWarning: Pass the following variable as a keyword arg: x. From version 0.12, the only valid positional argument will be `data`, and passing other arguments without an explicit keyword will result in an error or misinterpretation.\n",
      "  warnings.warn(\n",
      "C:\\Users\\ankit\\anaconda3\\lib\\site-packages\\seaborn\\_decorators.py:36: FutureWarning: Pass the following variable as a keyword arg: x. From version 0.12, the only valid positional argument will be `data`, and passing other arguments without an explicit keyword will result in an error or misinterpretation.\n",
      "  warnings.warn(\n",
      "C:\\Users\\ankit\\anaconda3\\lib\\site-packages\\seaborn\\_decorators.py:36: FutureWarning: Pass the following variable as a keyword arg: x. From version 0.12, the only valid positional argument will be `data`, and passing other arguments without an explicit keyword will result in an error or misinterpretation.\n",
      "  warnings.warn(\n"
     ]
    },
    {
     "data": {
      "image/png": "[encoded data removed]",
      "text/plain": [
       "<Figure size 1440x1440 with 3 Axes>"
      ]
     },
     "metadata": {
      "needs_background": "light"
     },
     "output_type": "display_data"
    }
   ],
   "source": [
    "plt.figure(figsize=(20,20))\n",
    "for i,col in enumerate(obj,1):\n",
    "    plt.subplot(5,6,i)\n",
    "    sns.countplot(cd[col])\n",
    "plt.tight_layout()\n",
    "plt.show()"
   ]
  },
  {
   "cell_type": "code",
   "execution_count": 12,
   "id": "7a29aa36",
   "metadata": {
    "ExecuteTime": {
     "end_time": "2022-05-31T18:32:04.640462Z",
     "start_time": "2022-05-31T18:32:04.613366Z"
    }
   },
   "outputs": [
    {
     "data": {
      "text/plain": [
       "Medium    219\n",
       "Bad        96\n",
       "Good       85\n",
       "Name: ShelveLoc, dtype: int64"
      ]
     },
     "execution_count": 12,
     "metadata": {},
     "output_type": "execute_result"
    }
   ],
   "source": [
    "cd['ShelveLoc'].value_counts()"
   ]
  },
  {
   "cell_type": "code",
   "execution_count": 13,
   "id": "debd6965",
   "metadata": {
    "ExecuteTime": {
     "end_time": "2022-05-31T18:32:04.672472Z",
     "start_time": "2022-05-31T18:32:04.645467Z"
    }
   },
   "outputs": [
    {
     "data": {
      "text/plain": [
       "Yes    258\n",
       "No     142\n",
       "Name: US, dtype: int64"
      ]
     },
     "execution_count": 13,
     "metadata": {},
     "output_type": "execute_result"
    }
   ],
   "source": [
    "cd['US'].value_counts()"
   ]
  },
  {
   "cell_type": "code",
   "execution_count": 14,
   "id": "b2d291b8",
   "metadata": {
    "ExecuteTime": {
     "end_time": "2022-05-31T18:32:04.704447Z",
     "start_time": "2022-05-31T18:32:04.678456Z"
    }
   },
   "outputs": [
    {
     "data": {
      "text/plain": [
       "Yes    282\n",
       "No     118\n",
       "Name: Urban, dtype: int64"
      ]
     },
     "execution_count": 14,
     "metadata": {},
     "output_type": "execute_result"
    }
   ],
   "source": [
    "cd['Urban'].value_counts()"
   ]
  },
  {
   "cell_type": "code",
   "execution_count": 15,
   "id": "15cbd535",
   "metadata": {
    "ExecuteTime": {
     "end_time": "2022-05-31T18:32:04.736438Z",
     "start_time": "2022-05-31T18:32:04.710446Z"
    }
   },
   "outputs": [
    {
     "data": {
      "text/plain": [
       "['Sales',\n",
       " 'CompPrice',\n",
       " 'Income',\n",
       " 'Advertising',\n",
       " 'Population',\n",
       " 'Price',\n",
       " 'Age',\n",
       " 'Education']"
      ]
     },
     "execution_count": 15,
     "metadata": {},
     "output_type": "execute_result"
    }
   ],
   "source": [
    "num = cd.select_dtypes(exclude='object').columns.tolist()\n",
    "num"
   ]
  },
  {
   "cell_type": "code",
   "execution_count": 16,
   "id": "2d1f3205",
   "metadata": {
    "ExecuteTime": {
     "end_time": "2022-05-31T18:32:06.756804Z",
     "start_time": "2022-05-31T18:32:04.741436Z"
    }
   },
   "outputs": [
    {
     "data": {
      "image/png": "[encoded data removed]",
      "text/plain": [
       "<Figure size 1296x2880 with 8 Axes>"
      ]
     },
     "metadata": {
      "needs_background": "light"
     },
     "output_type": "display_data"
    }
   ],
   "source": [
    "plt.figure(figsize=(18,40))\n",
    "for i,col in enumerate(num,1):\n",
    "    plt.subplot(8,4,i)\n",
    "    sns.kdeplot(cd[col],color='b',shade=True)\n",
    "plt.tight_layout() \n",
    "plt.show()"
   ]
  },
  {
   "cell_type": "code",
   "execution_count": 17,
   "id": "1ce4e1c5",
   "metadata": {
    "ExecuteTime": {
     "end_time": "2022-05-31T18:32:08.877103Z",
     "start_time": "2022-05-31T18:32:06.759786Z"
    }
   },
   "outputs": [
    {
     "data": {
      "text/plain": [
       "<AxesSubplot:>"
      ]
     },
     "execution_count": 17,
     "metadata": {},
     "output_type": "execute_result"
    },
    {
     "data": {
      "image/png": "[encoded data removed]",
      "text/plain": [
       "<Figure size 936x936 with 2 Axes>"
      ]
     },
     "metadata": {
      "needs_background": "light"
     },
     "output_type": "display_data"
    }
   ],
   "source": [
    "plt.figure(figsize=(13,13))\n",
    "sns.heatmap(cdnew.corr(),annot=True)"
   ]
  },
  {
   "cell_type": "markdown",
   "id": "93571b7d",
   "metadata": {},
   "source": [
    "# Model Building - Random Forest"
   ]
  },
  {
   "cell_type": "markdown",
   "id": "25f111bb",
   "metadata": {},
   "source": [
    "### Sales is a continuous variable so we will take mean of variable to create model.\n",
    "### <= 7.49 is classified as \" Less Sale \" & > 7.49 will be classified as \" High Sale \""
   ]
  },
  {
   "cell_type": "code",
   "execution_count": 18,
   "id": "bc19b640",
   "metadata": {
    "ExecuteTime": {
     "end_time": "2022-05-31T18:32:08.906556Z",
     "start_time": "2022-05-31T18:32:08.884101Z"
    }
   },
   "outputs": [],
   "source": [
    "cdnew[\"sales\"]=\"small\"\n",
    "cdnew.loc[cdnew[\"Sales\"]>7.49,\"sales\"]=\"large\"\n",
    "cdnew.drop([\"Sales\"],axis=1,inplace=True)"
   ]
  },
  {
   "cell_type": "code",
   "execution_count": 19,
   "id": "4dd928aa",
   "metadata": {
    "ExecuteTime": {
     "end_time": "2022-05-31T18:32:08.970535Z",
     "start_time": "2022-05-31T18:32:08.912556Z"
    }
   },
   "outputs": [
    {
     "data": {
      "text/html": [
       "<div>\n",
       "<style scoped>\n",
       "    .dataframe tbody tr th:only-of-type {\n",
       "        vertical-align: middle;\n",
       "    }\n",
       "\n",
       "    .dataframe tbody tr th {\n",
       "        vertical-align: top;\n",
       "    }\n",
       "\n",
       "    .dataframe thead th {\n",
       "        text-align: right;\n",
       "    }\n",
       "</style>\n",
       "<table border=\"1\" class=\"dataframe\">\n",
       "  <thead>\n",
       "    <tr style=\"text-align: right;\">\n",
       "      <th></th>\n",
       "      <th>CompPrice</th>\n",
       "      <th>Income</th>\n",
       "      <th>Advertising</th>\n",
       "      <th>Population</th>\n",
       "      <th>Price</th>\n",
       "      <th>Age</th>\n",
       "      <th>Education</th>\n",
       "      <th>ShelveLoc_Bad</th>\n",
       "      <th>ShelveLoc_Good</th>\n",
       "      <th>ShelveLoc_Medium</th>\n",
       "      <th>Urban_No</th>\n",
       "      <th>Urban_Yes</th>\n",
       "      <th>US_No</th>\n",
       "      <th>US_Yes</th>\n",
       "      <th>sales</th>\n",
       "    </tr>\n",
       "  </thead>\n",
       "  <tbody>\n",
       "    <tr>\n",
       "      <th>0</th>\n",
       "      <td>138</td>\n",
       "      <td>73</td>\n",
       "      <td>11</td>\n",
       "      <td>276</td>\n",
       "      <td>120</td>\n",
       "      <td>42</td>\n",
       "      <td>17</td>\n",
       "      <td>1</td>\n",
       "      <td>0</td>\n",
       "      <td>0</td>\n",
       "      <td>0</td>\n",
       "      <td>1</td>\n",
       "      <td>0</td>\n",
       "      <td>1</td>\n",
       "      <td>large</td>\n",
       "    </tr>\n",
       "    <tr>\n",
       "      <th>1</th>\n",
       "      <td>111</td>\n",
       "      <td>48</td>\n",
       "      <td>16</td>\n",
       "      <td>260</td>\n",
       "      <td>83</td>\n",
       "      <td>65</td>\n",
       "      <td>10</td>\n",
       "      <td>0</td>\n",
       "      <td>1</td>\n",
       "      <td>0</td>\n",
       "      <td>0</td>\n",
       "      <td>1</td>\n",
       "      <td>0</td>\n",
       "      <td>1</td>\n",
       "      <td>large</td>\n",
       "    </tr>\n",
       "    <tr>\n",
       "      <th>2</th>\n",
       "      <td>113</td>\n",
       "      <td>35</td>\n",
       "      <td>10</td>\n",
       "      <td>269</td>\n",
       "      <td>80</td>\n",
       "      <td>59</td>\n",
       "      <td>12</td>\n",
       "      <td>0</td>\n",
       "      <td>0</td>\n",
       "      <td>1</td>\n",
       "      <td>0</td>\n",
       "      <td>1</td>\n",
       "      <td>0</td>\n",
       "      <td>1</td>\n",
       "      <td>large</td>\n",
       "    </tr>\n",
       "    <tr>\n",
       "      <th>3</th>\n",
       "      <td>117</td>\n",
       "      <td>100</td>\n",
       "      <td>4</td>\n",
       "      <td>466</td>\n",
       "      <td>97</td>\n",
       "      <td>55</td>\n",
       "      <td>14</td>\n",
       "      <td>0</td>\n",
       "      <td>0</td>\n",
       "      <td>1</td>\n",
       "      <td>0</td>\n",
       "      <td>1</td>\n",
       "      <td>0</td>\n",
       "      <td>1</td>\n",
       "      <td>small</td>\n",
       "    </tr>\n",
       "    <tr>\n",
       "      <th>4</th>\n",
       "      <td>141</td>\n",
       "      <td>64</td>\n",
       "      <td>3</td>\n",
       "      <td>340</td>\n",
       "      <td>128</td>\n",
       "      <td>38</td>\n",
       "      <td>13</td>\n",
       "      <td>1</td>\n",
       "      <td>0</td>\n",
       "      <td>0</td>\n",
       "      <td>0</td>\n",
       "      <td>1</td>\n",
       "      <td>1</td>\n",
       "      <td>0</td>\n",
       "      <td>small</td>\n",
       "    </tr>\n",
       "    <tr>\n",
       "      <th>...</th>\n",
       "      <td>...</td>\n",
       "      <td>...</td>\n",
       "      <td>...</td>\n",
       "      <td>...</td>\n",
       "      <td>...</td>\n",
       "      <td>...</td>\n",
       "      <td>...</td>\n",
       "      <td>...</td>\n",
       "      <td>...</td>\n",
       "      <td>...</td>\n",
       "      <td>...</td>\n",
       "      <td>...</td>\n",
       "      <td>...</td>\n",
       "      <td>...</td>\n",
       "      <td>...</td>\n",
       "    </tr>\n",
       "    <tr>\n",
       "      <th>395</th>\n",
       "      <td>138</td>\n",
       "      <td>108</td>\n",
       "      <td>17</td>\n",
       "      <td>203</td>\n",
       "      <td>128</td>\n",
       "      <td>33</td>\n",
       "      <td>14</td>\n",
       "      <td>0</td>\n",
       "      <td>1</td>\n",
       "      <td>0</td>\n",
       "      <td>0</td>\n",
       "      <td>1</td>\n",
       "      <td>0</td>\n",
       "      <td>1</td>\n",
       "      <td>large</td>\n",
       "    </tr>\n",
       "    <tr>\n",
       "      <th>396</th>\n",
       "      <td>139</td>\n",
       "      <td>23</td>\n",
       "      <td>3</td>\n",
       "      <td>37</td>\n",
       "      <td>120</td>\n",
       "      <td>55</td>\n",
       "      <td>11</td>\n",
       "      <td>0</td>\n",
       "      <td>0</td>\n",
       "      <td>1</td>\n",
       "      <td>1</td>\n",
       "      <td>0</td>\n",
       "      <td>0</td>\n",
       "      <td>1</td>\n",
       "      <td>small</td>\n",
       "    </tr>\n",
       "    <tr>\n",
       "      <th>397</th>\n",
       "      <td>162</td>\n",
       "      <td>26</td>\n",
       "      <td>12</td>\n",
       "      <td>368</td>\n",
       "      <td>159</td>\n",
       "      <td>40</td>\n",
       "      <td>18</td>\n",
       "      <td>0</td>\n",
       "      <td>0</td>\n",
       "      <td>1</td>\n",
       "      <td>0</td>\n",
       "      <td>1</td>\n",
       "      <td>0</td>\n",
       "      <td>1</td>\n",
       "      <td>small</td>\n",
       "    </tr>\n",
       "    <tr>\n",
       "      <th>398</th>\n",
       "      <td>100</td>\n",
       "      <td>79</td>\n",
       "      <td>7</td>\n",
       "      <td>284</td>\n",
       "      <td>95</td>\n",
       "      <td>50</td>\n",
       "      <td>12</td>\n",
       "      <td>1</td>\n",
       "      <td>0</td>\n",
       "      <td>0</td>\n",
       "      <td>0</td>\n",
       "      <td>1</td>\n",
       "      <td>0</td>\n",
       "      <td>1</td>\n",
       "      <td>small</td>\n",
       "    </tr>\n",
       "    <tr>\n",
       "      <th>399</th>\n",
       "      <td>134</td>\n",
       "      <td>37</td>\n",
       "      <td>0</td>\n",
       "      <td>27</td>\n",
       "      <td>120</td>\n",
       "      <td>49</td>\n",
       "      <td>16</td>\n",
       "      <td>0</td>\n",
       "      <td>1</td>\n",
       "      <td>0</td>\n",
       "      <td>0</td>\n",
       "      <td>1</td>\n",
       "      <td>0</td>\n",
       "      <td>1</td>\n",
       "      <td>large</td>\n",
       "    </tr>\n",
       "  </tbody>\n",
       "</table>\n",
       "<p>400 rows × 15 columns</p>\n",
       "</div>"
      ],
      "text/plain": [
       "     CompPrice  Income  Advertising  Population  Price  Age  Education  \\\n",
       "0          138      73           11         276    120   42         17   \n",
       "1          111      48           16         260     83   65         10   \n",
       "2          113      35           10         269     80   59         12   \n",
       "3          117     100            4         466     97   55         14   \n",
       "4          141      64            3         340    128   38         13   \n",
       "..         ...     ...          ...         ...    ...  ...        ...   \n",
       "395        138     108           17         203    128   33         14   \n",
       "396        139      23            3          37    120   55         11   \n",
       "397        162      26           12         368    159   40         18   \n",
       "398        100      79            7         284     95   50         12   \n",
       "399        134      37            0          27    120   49         16   \n",
       "\n",
       "     ShelveLoc_Bad  ShelveLoc_Good  ShelveLoc_Medium  Urban_No  Urban_Yes  \\\n",
       "0                1               0                 0         0          1   \n",
       "1                0               1                 0         0          1   \n",
       "2                0               0                 1         0          1   \n",
       "3                0               0                 1         0          1   \n",
       "4                1               0                 0         0          1   \n",
       "..             ...             ...               ...       ...        ...   \n",
       "395              0               1                 0         0          1   \n",
       "396              0               0                 1         1          0   \n",
       "397              0               0                 1         0          1   \n",
       "398              1               0                 0         0          1   \n",
       "399              0               1                 0         0          1   \n",
       "\n",
       "     US_No  US_Yes  sales  \n",
       "0        0       1  large  \n",
       "1        0       1  large  \n",
       "2        0       1  large  \n",
       "3        0       1  small  \n",
       "4        1       0  small  \n",
       "..     ...     ...    ...  \n",
       "395      0       1  large  \n",
       "396      0       1  small  \n",
       "397      0       1  small  \n",
       "398      0       1  small  \n",
       "399      0       1  large  \n",
       "\n",
       "[400 rows x 15 columns]"
      ]
     },
     "execution_count": 19,
     "metadata": {},
     "output_type": "execute_result"
    }
   ],
   "source": [
    "cdnew"
   ]
  },
  {
   "cell_type": "code",
   "execution_count": 20,
   "id": "8172bf11",
   "metadata": {
    "ExecuteTime": {
     "end_time": "2022-05-31T18:32:09.001525Z",
     "start_time": "2022-05-31T18:32:08.976539Z"
    }
   },
   "outputs": [],
   "source": [
    "x = cdnew.iloc[:,0:14]\n",
    "y = cdnew.iloc[:,14]"
   ]
  },
  {
   "cell_type": "code",
   "execution_count": 21,
   "id": "41e10b96",
   "metadata": {
    "ExecuteTime": {
     "end_time": "2022-05-31T18:32:09.031517Z",
     "start_time": "2022-05-31T18:32:09.004527Z"
    }
   },
   "outputs": [],
   "source": [
    "xtrain,xtest,ytrain,ytest = train_test_split(x,y,test_size=0.2,random_state=200)"
   ]
  },
  {
   "cell_type": "code",
   "execution_count": 22,
   "id": "8fd563f2",
   "metadata": {
    "ExecuteTime": {
     "end_time": "2022-05-31T18:32:09.062508Z",
     "start_time": "2022-05-31T18:32:09.035516Z"
    }
   },
   "outputs": [
    {
     "data": {
      "text/plain": [
       "small    162\n",
       "large    158\n",
       "Name: sales, dtype: int64"
      ]
     },
     "execution_count": 22,
     "metadata": {},
     "output_type": "execute_result"
    }
   ],
   "source": [
    "ytrain.value_counts()"
   ]
  },
  {
   "cell_type": "code",
   "execution_count": 23,
   "id": "cf5a5998",
   "metadata": {
    "ExecuteTime": {
     "end_time": "2022-05-31T18:32:13.056301Z",
     "start_time": "2022-05-31T18:32:09.066504Z"
    }
   },
   "outputs": [],
   "source": [
    "num_trees = 150\n",
    "maxfeature = 8\n",
    "kfold = KFold(n_splits=10,random_state=200,shuffle=True)\n",
    "model = RandomForestClassifier(n_estimators=num_trees,max_features=maxfeature)\n",
    "result = cross_val_score(model,xtrain,ytrain,cv=kfold)"
   ]
  },
  {
   "cell_type": "code",
   "execution_count": 24,
   "id": "642cdc23",
   "metadata": {
    "ExecuteTime": {
     "end_time": "2022-05-31T18:32:13.075036Z",
     "start_time": "2022-05-31T18:32:13.059041Z"
    }
   },
   "outputs": [
    {
     "data": {
      "text/plain": [
       "array([0.78125, 0.65625, 0.9375 , 0.84375, 0.59375, 0.84375, 0.90625,\n",
       "       0.78125, 0.875  , 0.875  ])"
      ]
     },
     "execution_count": 24,
     "metadata": {},
     "output_type": "execute_result"
    }
   ],
   "source": [
    "result"
   ]
  },
  {
   "cell_type": "code",
   "execution_count": 25,
   "id": "b52c1760",
   "metadata": {
    "ExecuteTime": {
     "end_time": "2022-05-31T18:32:13.104047Z",
     "start_time": "2022-05-31T18:32:13.082034Z"
    }
   },
   "outputs": [
    {
     "data": {
      "text/plain": [
       "0.809375"
      ]
     },
     "execution_count": 25,
     "metadata": {},
     "output_type": "execute_result"
    }
   ],
   "source": [
    "result.mean()"
   ]
  },
  {
   "cell_type": "code",
   "execution_count": 26,
   "id": "5ddd49bb",
   "metadata": {
    "ExecuteTime": {
     "end_time": "2022-05-31T18:32:13.561276Z",
     "start_time": "2022-05-31T18:32:13.109026Z"
    }
   },
   "outputs": [
    {
     "data": {
      "text/plain": [
       "RandomForestClassifier(max_features=8, n_estimators=150)"
      ]
     },
     "execution_count": 26,
     "metadata": {},
     "output_type": "execute_result"
    }
   ],
   "source": [
    "model.fit(xtrain,ytrain)"
   ]
  },
  {
   "cell_type": "code",
   "execution_count": 27,
   "id": "8d2b5715",
   "metadata": {
    "ExecuteTime": {
     "end_time": "2022-05-31T18:32:13.625010Z",
     "start_time": "2022-05-31T18:32:13.564232Z"
    }
   },
   "outputs": [
    {
     "data": {
      "text/plain": [
       "array(['large', 'large', 'small', 'large', 'large', 'small', 'large',\n",
       "       'small', 'small', 'small', 'small', 'small', 'small', 'small',\n",
       "       'small', 'small', 'small', 'large', 'small', 'large', 'small',\n",
       "       'large', 'large', 'small', 'small', 'large', 'large', 'small',\n",
       "       'small', 'large', 'large', 'large', 'small', 'large', 'small',\n",
       "       'small', 'small', 'large', 'large', 'large', 'large', 'small',\n",
       "       'large', 'small', 'small', 'large', 'small', 'large', 'large',\n",
       "       'large', 'small', 'small', 'small', 'small', 'small', 'small',\n",
       "       'large', 'small', 'large', 'small', 'large', 'small', 'large',\n",
       "       'large', 'large', 'small', 'small', 'large', 'large', 'large',\n",
       "       'small', 'small', 'large', 'large', 'small', 'large', 'large',\n",
       "       'large', 'large', 'small'], dtype=object)"
      ]
     },
     "execution_count": 27,
     "metadata": {},
     "output_type": "execute_result"
    }
   ],
   "source": [
    "yhat = model.predict(xtest)\n",
    "yhat"
   ]
  },
  {
   "cell_type": "code",
   "execution_count": 28,
   "id": "3106519a",
   "metadata": {
    "ExecuteTime": {
     "end_time": "2022-05-31T18:32:13.657000Z",
     "start_time": "2022-05-31T18:32:13.634987Z"
    }
   },
   "outputs": [
    {
     "data": {
      "text/plain": [
       "0.825"
      ]
     },
     "execution_count": 28,
     "metadata": {},
     "output_type": "execute_result"
    }
   ],
   "source": [
    "accuracy_score(ytest,yhat)"
   ]
  },
  {
   "cell_type": "code",
   "execution_count": 29,
   "id": "722219b1",
   "metadata": {
    "ExecuteTime": {
     "end_time": "2022-05-31T18:32:13.686986Z",
     "start_time": "2022-05-31T18:32:13.660981Z"
    }
   },
   "outputs": [
    {
     "data": {
      "text/plain": [
       "array([[33,  8],\n",
       "       [ 6, 33]], dtype=int64)"
      ]
     },
     "execution_count": 29,
     "metadata": {},
     "output_type": "execute_result"
    }
   ],
   "source": [
    "confusion_matrix(ytest,yhat)"
   ]
  },
  {
   "cell_type": "markdown",
   "id": "da58fa65",
   "metadata": {},
   "source": [
    "# Model Interpretetion\n",
    "\n",
    "### Accuracy on the test data is 82.5% . \n",
    "#### We get 66 variables correctly calassified and 14 wrongly predicted by the model."
   ]
  }
 ],
 "metadata": {
  "kernelspec": {
   "display_name": "Python 3 (ipykernel)",
   "language": "python",
   "name": "python3"
  },
  "language_info": {
   "codemirror_mode": {
    "name": "ipython",
    "version": 3
   },
   "file_extension": ".py",
   "mimetype": "text/x-python",
   "name": "python",
   "nbconvert_exporter": "python",
   "pygments_lexer": "ipython3",
   "version": "3.9.7"
  }
 },
 "nbformat": 4,
 "nbformat_minor": 5
}
