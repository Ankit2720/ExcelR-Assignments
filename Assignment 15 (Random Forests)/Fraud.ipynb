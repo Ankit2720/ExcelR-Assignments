{
 "cells": [
  {
   "cell_type": "markdown",
   "id": "5273d5dc",
   "metadata": {},
   "source": [
    "# Question 2\n",
    "## Use Random Forest to prepare a model on fraud data \n",
    "- Treating those who have taxable_income <= 30000 as \"Risky\" and others are \"Good\""
   ]
  },
  {
   "cell_type": "code",
   "execution_count": 1,
   "id": "b5c32602",
   "metadata": {
    "ExecuteTime": {
     "end_time": "2022-05-31T18:36:06.940237Z",
     "start_time": "2022-05-31T18:36:04.066508Z"
    }
   },
   "outputs": [],
   "source": [
    "import pandas as pd\n",
    "import numpy as np\n",
    "import matplotlib.pyplot as plt\n",
    "from sklearn.model_selection import train_test_split\n",
    "from sklearn.ensemble import RandomForestClassifier\n",
    "from sklearn.model_selection import KFold,cross_val_score\n",
    "from sklearn import preprocessing\n",
    "from sklearn.metrics import accuracy_score\n",
    "from sklearn.metrics import confusion_matrix\n",
    "import seaborn as sns"
   ]
  },
  {
   "cell_type": "code",
   "execution_count": 2,
   "id": "fb49b711",
   "metadata": {
    "ExecuteTime": {
     "end_time": "2022-05-31T18:36:07.004220Z",
     "start_time": "2022-05-31T18:36:06.944241Z"
    }
   },
   "outputs": [
    {
     "data": {
      "text/html": [
       "<div>\n",
       "<style scoped>\n",
       "    .dataframe tbody tr th:only-of-type {\n",
       "        vertical-align: middle;\n",
       "    }\n",
       "\n",
       "    .dataframe tbody tr th {\n",
       "        vertical-align: top;\n",
       "    }\n",
       "\n",
       "    .dataframe thead th {\n",
       "        text-align: right;\n",
       "    }\n",
       "</style>\n",
       "<table border=\"1\" class=\"dataframe\">\n",
       "  <thead>\n",
       "    <tr style=\"text-align: right;\">\n",
       "      <th></th>\n",
       "      <th>Undergrad</th>\n",
       "      <th>Marital.Status</th>\n",
       "      <th>Taxable.Income</th>\n",
       "      <th>City.Population</th>\n",
       "      <th>Work.Experience</th>\n",
       "      <th>Urban</th>\n",
       "    </tr>\n",
       "  </thead>\n",
       "  <tbody>\n",
       "    <tr>\n",
       "      <th>0</th>\n",
       "      <td>NO</td>\n",
       "      <td>Single</td>\n",
       "      <td>68833</td>\n",
       "      <td>50047</td>\n",
       "      <td>10</td>\n",
       "      <td>YES</td>\n",
       "    </tr>\n",
       "    <tr>\n",
       "      <th>1</th>\n",
       "      <td>YES</td>\n",
       "      <td>Divorced</td>\n",
       "      <td>33700</td>\n",
       "      <td>134075</td>\n",
       "      <td>18</td>\n",
       "      <td>YES</td>\n",
       "    </tr>\n",
       "    <tr>\n",
       "      <th>2</th>\n",
       "      <td>NO</td>\n",
       "      <td>Married</td>\n",
       "      <td>36925</td>\n",
       "      <td>160205</td>\n",
       "      <td>30</td>\n",
       "      <td>YES</td>\n",
       "    </tr>\n",
       "    <tr>\n",
       "      <th>3</th>\n",
       "      <td>YES</td>\n",
       "      <td>Single</td>\n",
       "      <td>50190</td>\n",
       "      <td>193264</td>\n",
       "      <td>15</td>\n",
       "      <td>YES</td>\n",
       "    </tr>\n",
       "    <tr>\n",
       "      <th>4</th>\n",
       "      <td>NO</td>\n",
       "      <td>Married</td>\n",
       "      <td>81002</td>\n",
       "      <td>27533</td>\n",
       "      <td>28</td>\n",
       "      <td>NO</td>\n",
       "    </tr>\n",
       "    <tr>\n",
       "      <th>...</th>\n",
       "      <td>...</td>\n",
       "      <td>...</td>\n",
       "      <td>...</td>\n",
       "      <td>...</td>\n",
       "      <td>...</td>\n",
       "      <td>...</td>\n",
       "    </tr>\n",
       "    <tr>\n",
       "      <th>595</th>\n",
       "      <td>YES</td>\n",
       "      <td>Divorced</td>\n",
       "      <td>76340</td>\n",
       "      <td>39492</td>\n",
       "      <td>7</td>\n",
       "      <td>YES</td>\n",
       "    </tr>\n",
       "    <tr>\n",
       "      <th>596</th>\n",
       "      <td>YES</td>\n",
       "      <td>Divorced</td>\n",
       "      <td>69967</td>\n",
       "      <td>55369</td>\n",
       "      <td>2</td>\n",
       "      <td>YES</td>\n",
       "    </tr>\n",
       "    <tr>\n",
       "      <th>597</th>\n",
       "      <td>NO</td>\n",
       "      <td>Divorced</td>\n",
       "      <td>47334</td>\n",
       "      <td>154058</td>\n",
       "      <td>0</td>\n",
       "      <td>YES</td>\n",
       "    </tr>\n",
       "    <tr>\n",
       "      <th>598</th>\n",
       "      <td>YES</td>\n",
       "      <td>Married</td>\n",
       "      <td>98592</td>\n",
       "      <td>180083</td>\n",
       "      <td>17</td>\n",
       "      <td>NO</td>\n",
       "    </tr>\n",
       "    <tr>\n",
       "      <th>599</th>\n",
       "      <td>NO</td>\n",
       "      <td>Divorced</td>\n",
       "      <td>96519</td>\n",
       "      <td>158137</td>\n",
       "      <td>16</td>\n",
       "      <td>NO</td>\n",
       "    </tr>\n",
       "  </tbody>\n",
       "</table>\n",
       "<p>600 rows × 6 columns</p>\n",
       "</div>"
      ],
      "text/plain": [
       "    Undergrad Marital.Status  Taxable.Income  City.Population  \\\n",
       "0          NO         Single           68833            50047   \n",
       "1         YES       Divorced           33700           134075   \n",
       "2          NO        Married           36925           160205   \n",
       "3         YES         Single           50190           193264   \n",
       "4          NO        Married           81002            27533   \n",
       "..        ...            ...             ...              ...   \n",
       "595       YES       Divorced           76340            39492   \n",
       "596       YES       Divorced           69967            55369   \n",
       "597        NO       Divorced           47334           154058   \n",
       "598       YES        Married           98592           180083   \n",
       "599        NO       Divorced           96519           158137   \n",
       "\n",
       "     Work.Experience Urban  \n",
       "0                 10   YES  \n",
       "1                 18   YES  \n",
       "2                 30   YES  \n",
       "3                 15   YES  \n",
       "4                 28    NO  \n",
       "..               ...   ...  \n",
       "595                7   YES  \n",
       "596                2   YES  \n",
       "597                0   YES  \n",
       "598               17    NO  \n",
       "599               16    NO  \n",
       "\n",
       "[600 rows x 6 columns]"
      ]
     },
     "execution_count": 2,
     "metadata": {},
     "output_type": "execute_result"
    }
   ],
   "source": [
    "fraud = pd.read_csv('D:\\\\Data Science\\\\Assignment 15\\\\Raw data\\\\Fraud_check.csv')\n",
    "fraud"
   ]
  },
  {
   "cell_type": "code",
   "execution_count": 3,
   "id": "fc73d4d1",
   "metadata": {
    "ExecuteTime": {
     "end_time": "2022-05-31T18:36:07.068200Z",
     "start_time": "2022-05-31T18:36:07.015218Z"
    }
   },
   "outputs": [
    {
     "data": {
      "text/html": [
       "<div>\n",
       "<style scoped>\n",
       "    .dataframe tbody tr th:only-of-type {\n",
       "        vertical-align: middle;\n",
       "    }\n",
       "\n",
       "    .dataframe tbody tr th {\n",
       "        vertical-align: top;\n",
       "    }\n",
       "\n",
       "    .dataframe thead th {\n",
       "        text-align: right;\n",
       "    }\n",
       "</style>\n",
       "<table border=\"1\" class=\"dataframe\">\n",
       "  <thead>\n",
       "    <tr style=\"text-align: right;\">\n",
       "      <th></th>\n",
       "      <th>Taxable.Income</th>\n",
       "      <th>City.Population</th>\n",
       "      <th>Work.Experience</th>\n",
       "    </tr>\n",
       "  </thead>\n",
       "  <tbody>\n",
       "    <tr>\n",
       "      <th>count</th>\n",
       "      <td>600.000000</td>\n",
       "      <td>600.000000</td>\n",
       "      <td>600.000000</td>\n",
       "    </tr>\n",
       "    <tr>\n",
       "      <th>mean</th>\n",
       "      <td>55208.375000</td>\n",
       "      <td>108747.368333</td>\n",
       "      <td>15.558333</td>\n",
       "    </tr>\n",
       "    <tr>\n",
       "      <th>std</th>\n",
       "      <td>26204.827597</td>\n",
       "      <td>49850.075134</td>\n",
       "      <td>8.842147</td>\n",
       "    </tr>\n",
       "    <tr>\n",
       "      <th>min</th>\n",
       "      <td>10003.000000</td>\n",
       "      <td>25779.000000</td>\n",
       "      <td>0.000000</td>\n",
       "    </tr>\n",
       "    <tr>\n",
       "      <th>25%</th>\n",
       "      <td>32871.500000</td>\n",
       "      <td>66966.750000</td>\n",
       "      <td>8.000000</td>\n",
       "    </tr>\n",
       "    <tr>\n",
       "      <th>50%</th>\n",
       "      <td>55074.500000</td>\n",
       "      <td>106493.500000</td>\n",
       "      <td>15.000000</td>\n",
       "    </tr>\n",
       "    <tr>\n",
       "      <th>75%</th>\n",
       "      <td>78611.750000</td>\n",
       "      <td>150114.250000</td>\n",
       "      <td>24.000000</td>\n",
       "    </tr>\n",
       "    <tr>\n",
       "      <th>max</th>\n",
       "      <td>99619.000000</td>\n",
       "      <td>199778.000000</td>\n",
       "      <td>30.000000</td>\n",
       "    </tr>\n",
       "  </tbody>\n",
       "</table>\n",
       "</div>"
      ],
      "text/plain": [
       "       Taxable.Income  City.Population  Work.Experience\n",
       "count      600.000000       600.000000       600.000000\n",
       "mean     55208.375000    108747.368333        15.558333\n",
       "std      26204.827597     49850.075134         8.842147\n",
       "min      10003.000000     25779.000000         0.000000\n",
       "25%      32871.500000     66966.750000         8.000000\n",
       "50%      55074.500000    106493.500000        15.000000\n",
       "75%      78611.750000    150114.250000        24.000000\n",
       "max      99619.000000    199778.000000        30.000000"
      ]
     },
     "execution_count": 3,
     "metadata": {},
     "output_type": "execute_result"
    }
   ],
   "source": [
    "fraud.describe()"
   ]
  },
  {
   "cell_type": "markdown",
   "id": "dd5ff79d",
   "metadata": {},
   "source": [
    "## Performing EDA"
   ]
  },
  {
   "cell_type": "code",
   "execution_count": 4,
   "id": "b4510bfb",
   "metadata": {
    "ExecuteTime": {
     "end_time": "2022-05-31T18:36:07.099195Z",
     "start_time": "2022-05-31T18:36:07.072201Z"
    }
   },
   "outputs": [
    {
     "name": "stdout",
     "output_type": "stream",
     "text": [
      "<class 'pandas.core.frame.DataFrame'>\n",
      "RangeIndex: 600 entries, 0 to 599\n",
      "Data columns (total 6 columns):\n",
      " #   Column           Non-Null Count  Dtype \n",
      "---  ------           --------------  ----- \n",
      " 0   Undergrad        600 non-null    object\n",
      " 1   Marital.Status   600 non-null    object\n",
      " 2   Taxable.Income   600 non-null    int64 \n",
      " 3   City.Population  600 non-null    int64 \n",
      " 4   Work.Experience  600 non-null    int64 \n",
      " 5   Urban            600 non-null    object\n",
      "dtypes: int64(3), object(3)\n",
      "memory usage: 28.2+ KB\n"
     ]
    }
   ],
   "source": [
    "fraud.info()"
   ]
  },
  {
   "cell_type": "code",
   "execution_count": 5,
   "id": "865f4715",
   "metadata": {
    "ExecuteTime": {
     "end_time": "2022-05-31T18:36:07.129180Z",
     "start_time": "2022-05-31T18:36:07.105190Z"
    }
   },
   "outputs": [
    {
     "data": {
      "text/plain": [
       "False    600\n",
       "dtype: int64"
      ]
     },
     "execution_count": 5,
     "metadata": {},
     "output_type": "execute_result"
    }
   ],
   "source": [
    "fraud.duplicated().value_counts()"
   ]
  },
  {
   "cell_type": "markdown",
   "id": "f71a5d03",
   "metadata": {},
   "source": [
    "#### There are no null and duplicated variables in the data"
   ]
  },
  {
   "cell_type": "code",
   "execution_count": 6,
   "id": "661641ac",
   "metadata": {
    "ExecuteTime": {
     "end_time": "2022-05-31T18:36:07.160170Z",
     "start_time": "2022-05-31T18:36:07.134180Z"
    }
   },
   "outputs": [],
   "source": [
    "fraudnew = fraud.copy()\n",
    "fraudnew = pd.get_dummies(fraud, columns=['Undergrad','Marital.Status','Urban'])"
   ]
  },
  {
   "cell_type": "code",
   "execution_count": 7,
   "id": "bd486f76",
   "metadata": {
    "ExecuteTime": {
     "end_time": "2022-05-31T18:36:07.206156Z",
     "start_time": "2022-05-31T18:36:07.166171Z"
    }
   },
   "outputs": [
    {
     "data": {
      "text/html": [
       "<div>\n",
       "<style scoped>\n",
       "    .dataframe tbody tr th:only-of-type {\n",
       "        vertical-align: middle;\n",
       "    }\n",
       "\n",
       "    .dataframe tbody tr th {\n",
       "        vertical-align: top;\n",
       "    }\n",
       "\n",
       "    .dataframe thead th {\n",
       "        text-align: right;\n",
       "    }\n",
       "</style>\n",
       "<table border=\"1\" class=\"dataframe\">\n",
       "  <thead>\n",
       "    <tr style=\"text-align: right;\">\n",
       "      <th></th>\n",
       "      <th>Taxable.Income</th>\n",
       "      <th>City.Population</th>\n",
       "      <th>Work.Experience</th>\n",
       "      <th>Undergrad_NO</th>\n",
       "      <th>Undergrad_YES</th>\n",
       "      <th>Marital.Status_Divorced</th>\n",
       "      <th>Marital.Status_Married</th>\n",
       "      <th>Marital.Status_Single</th>\n",
       "      <th>Urban_NO</th>\n",
       "      <th>Urban_YES</th>\n",
       "    </tr>\n",
       "  </thead>\n",
       "  <tbody>\n",
       "    <tr>\n",
       "      <th>Taxable.Income</th>\n",
       "      <td>1.000000</td>\n",
       "      <td>-0.064387</td>\n",
       "      <td>-0.001818</td>\n",
       "      <td>0.049232</td>\n",
       "      <td>-0.049232</td>\n",
       "      <td>0.062099</td>\n",
       "      <td>-0.100611</td>\n",
       "      <td>0.037910</td>\n",
       "      <td>-0.070628</td>\n",
       "      <td>0.070628</td>\n",
       "    </tr>\n",
       "    <tr>\n",
       "      <th>City.Population</th>\n",
       "      <td>-0.064387</td>\n",
       "      <td>1.000000</td>\n",
       "      <td>0.013135</td>\n",
       "      <td>-0.079579</td>\n",
       "      <td>0.079579</td>\n",
       "      <td>0.004925</td>\n",
       "      <td>-0.007035</td>\n",
       "      <td>0.002087</td>\n",
       "      <td>0.040098</td>\n",
       "      <td>-0.040098</td>\n",
       "    </tr>\n",
       "    <tr>\n",
       "      <th>Work.Experience</th>\n",
       "      <td>-0.001818</td>\n",
       "      <td>0.013135</td>\n",
       "      <td>1.000000</td>\n",
       "      <td>0.005362</td>\n",
       "      <td>-0.005362</td>\n",
       "      <td>-0.014833</td>\n",
       "      <td>0.033347</td>\n",
       "      <td>-0.018123</td>\n",
       "      <td>0.094559</td>\n",
       "      <td>-0.094559</td>\n",
       "    </tr>\n",
       "    <tr>\n",
       "      <th>Undergrad_NO</th>\n",
       "      <td>0.049232</td>\n",
       "      <td>-0.079579</td>\n",
       "      <td>0.005362</td>\n",
       "      <td>1.000000</td>\n",
       "      <td>-1.000000</td>\n",
       "      <td>0.045101</td>\n",
       "      <td>-0.015120</td>\n",
       "      <td>-0.028883</td>\n",
       "      <td>-0.000267</td>\n",
       "      <td>0.000267</td>\n",
       "    </tr>\n",
       "    <tr>\n",
       "      <th>Undergrad_YES</th>\n",
       "      <td>-0.049232</td>\n",
       "      <td>0.079579</td>\n",
       "      <td>-0.005362</td>\n",
       "      <td>-1.000000</td>\n",
       "      <td>1.000000</td>\n",
       "      <td>-0.045101</td>\n",
       "      <td>0.015120</td>\n",
       "      <td>0.028883</td>\n",
       "      <td>0.000267</td>\n",
       "      <td>-0.000267</td>\n",
       "    </tr>\n",
       "    <tr>\n",
       "      <th>Marital.Status_Divorced</th>\n",
       "      <td>0.062099</td>\n",
       "      <td>0.004925</td>\n",
       "      <td>-0.014833</td>\n",
       "      <td>0.045101</td>\n",
       "      <td>-0.045101</td>\n",
       "      <td>1.000000</td>\n",
       "      <td>-0.468757</td>\n",
       "      <td>-0.510435</td>\n",
       "      <td>0.065518</td>\n",
       "      <td>-0.065518</td>\n",
       "    </tr>\n",
       "    <tr>\n",
       "      <th>Marital.Status_Married</th>\n",
       "      <td>-0.100611</td>\n",
       "      <td>-0.007035</td>\n",
       "      <td>0.033347</td>\n",
       "      <td>-0.015120</td>\n",
       "      <td>0.015120</td>\n",
       "      <td>-0.468757</td>\n",
       "      <td>1.000000</td>\n",
       "      <td>-0.520317</td>\n",
       "      <td>-0.016771</td>\n",
       "      <td>0.016771</td>\n",
       "    </tr>\n",
       "    <tr>\n",
       "      <th>Marital.Status_Single</th>\n",
       "      <td>0.037910</td>\n",
       "      <td>0.002087</td>\n",
       "      <td>-0.018123</td>\n",
       "      <td>-0.028883</td>\n",
       "      <td>0.028883</td>\n",
       "      <td>-0.510435</td>\n",
       "      <td>-0.520317</td>\n",
       "      <td>1.000000</td>\n",
       "      <td>-0.047014</td>\n",
       "      <td>0.047014</td>\n",
       "    </tr>\n",
       "    <tr>\n",
       "      <th>Urban_NO</th>\n",
       "      <td>-0.070628</td>\n",
       "      <td>0.040098</td>\n",
       "      <td>0.094559</td>\n",
       "      <td>-0.000267</td>\n",
       "      <td>0.000267</td>\n",
       "      <td>0.065518</td>\n",
       "      <td>-0.016771</td>\n",
       "      <td>-0.047014</td>\n",
       "      <td>1.000000</td>\n",
       "      <td>-1.000000</td>\n",
       "    </tr>\n",
       "    <tr>\n",
       "      <th>Urban_YES</th>\n",
       "      <td>0.070628</td>\n",
       "      <td>-0.040098</td>\n",
       "      <td>-0.094559</td>\n",
       "      <td>0.000267</td>\n",
       "      <td>-0.000267</td>\n",
       "      <td>-0.065518</td>\n",
       "      <td>0.016771</td>\n",
       "      <td>0.047014</td>\n",
       "      <td>-1.000000</td>\n",
       "      <td>1.000000</td>\n",
       "    </tr>\n",
       "  </tbody>\n",
       "</table>\n",
       "</div>"
      ],
      "text/plain": [
       "                         Taxable.Income  City.Population  Work.Experience  \\\n",
       "Taxable.Income                 1.000000        -0.064387        -0.001818   \n",
       "City.Population               -0.064387         1.000000         0.013135   \n",
       "Work.Experience               -0.001818         0.013135         1.000000   \n",
       "Undergrad_NO                   0.049232        -0.079579         0.005362   \n",
       "Undergrad_YES                 -0.049232         0.079579        -0.005362   \n",
       "Marital.Status_Divorced        0.062099         0.004925        -0.014833   \n",
       "Marital.Status_Married        -0.100611        -0.007035         0.033347   \n",
       "Marital.Status_Single          0.037910         0.002087        -0.018123   \n",
       "Urban_NO                      -0.070628         0.040098         0.094559   \n",
       "Urban_YES                      0.070628        -0.040098        -0.094559   \n",
       "\n",
       "                         Undergrad_NO  Undergrad_YES  Marital.Status_Divorced  \\\n",
       "Taxable.Income               0.049232      -0.049232                 0.062099   \n",
       "City.Population             -0.079579       0.079579                 0.004925   \n",
       "Work.Experience              0.005362      -0.005362                -0.014833   \n",
       "Undergrad_NO                 1.000000      -1.000000                 0.045101   \n",
       "Undergrad_YES               -1.000000       1.000000                -0.045101   \n",
       "Marital.Status_Divorced      0.045101      -0.045101                 1.000000   \n",
       "Marital.Status_Married      -0.015120       0.015120                -0.468757   \n",
       "Marital.Status_Single       -0.028883       0.028883                -0.510435   \n",
       "Urban_NO                    -0.000267       0.000267                 0.065518   \n",
       "Urban_YES                    0.000267      -0.000267                -0.065518   \n",
       "\n",
       "                         Marital.Status_Married  Marital.Status_Single  \\\n",
       "Taxable.Income                        -0.100611               0.037910   \n",
       "City.Population                       -0.007035               0.002087   \n",
       "Work.Experience                        0.033347              -0.018123   \n",
       "Undergrad_NO                          -0.015120              -0.028883   \n",
       "Undergrad_YES                          0.015120               0.028883   \n",
       "Marital.Status_Divorced               -0.468757              -0.510435   \n",
       "Marital.Status_Married                 1.000000              -0.520317   \n",
       "Marital.Status_Single                 -0.520317               1.000000   \n",
       "Urban_NO                              -0.016771              -0.047014   \n",
       "Urban_YES                              0.016771               0.047014   \n",
       "\n",
       "                         Urban_NO  Urban_YES  \n",
       "Taxable.Income          -0.070628   0.070628  \n",
       "City.Population          0.040098  -0.040098  \n",
       "Work.Experience          0.094559  -0.094559  \n",
       "Undergrad_NO            -0.000267   0.000267  \n",
       "Undergrad_YES            0.000267  -0.000267  \n",
       "Marital.Status_Divorced  0.065518  -0.065518  \n",
       "Marital.Status_Married  -0.016771   0.016771  \n",
       "Marital.Status_Single   -0.047014   0.047014  \n",
       "Urban_NO                 1.000000  -1.000000  \n",
       "Urban_YES               -1.000000   1.000000  "
      ]
     },
     "execution_count": 7,
     "metadata": {},
     "output_type": "execute_result"
    }
   ],
   "source": [
    "fraudnew.corr()"
   ]
  },
  {
   "cell_type": "markdown",
   "id": "866fdae2",
   "metadata": {},
   "source": [
    "#### No variables are highly correlated to each others."
   ]
  },
  {
   "cell_type": "code",
   "execution_count": 8,
   "id": "7d4c6469",
   "metadata": {
    "ExecuteTime": {
     "end_time": "2022-05-31T18:36:07.437113Z",
     "start_time": "2022-05-31T18:36:07.209155Z"
    }
   },
   "outputs": [
    {
     "name": "stderr",
     "output_type": "stream",
     "text": [
      "C:\\Users\\ankit\\anaconda3\\lib\\site-packages\\seaborn\\_decorators.py:36: FutureWarning: Pass the following variable as a keyword arg: x. From version 0.12, the only valid positional argument will be `data`, and passing other arguments without an explicit keyword will result in an error or misinterpretation.\n",
      "  warnings.warn(\n"
     ]
    },
    {
     "data": {
      "text/plain": [
       "<AxesSubplot:xlabel='Taxable.Income'>"
      ]
     },
     "execution_count": 8,
     "metadata": {},
     "output_type": "execute_result"
    },
    {
     "data": {
      "image/png": "[encoded data removed]",
      "text/plain": [
       "<Figure size 432x288 with 1 Axes>"
      ]
     },
     "metadata": {
      "needs_background": "light"
     },
     "output_type": "display_data"
    }
   ],
   "source": [
    "sns.boxplot(fraud['Taxable.Income'])"
   ]
  },
  {
   "cell_type": "markdown",
   "id": "749a0839",
   "metadata": {},
   "source": [
    "#### No outliers are there in the Dataset"
   ]
  },
  {
   "cell_type": "code",
   "execution_count": 9,
   "id": "bd958372",
   "metadata": {
    "ExecuteTime": {
     "end_time": "2022-05-31T18:36:07.735999Z",
     "start_time": "2022-05-31T18:36:07.445098Z"
    }
   },
   "outputs": [
    {
     "data": {
      "text/plain": [
       "<AxesSubplot:xlabel='Taxable.Income', ylabel='Density'>"
      ]
     },
     "execution_count": 9,
     "metadata": {},
     "output_type": "execute_result"
    },
    {
     "data": {
      "image/png": "[encoded data removed]",
      "text/plain": [
       "<Figure size 1152x504 with 1 Axes>"
      ]
     },
     "metadata": {
      "needs_background": "light"
     },
     "output_type": "display_data"
    }
   ],
   "source": [
    "plt.figure(figsize=(16,7))\n",
    "sns.kdeplot(fraud['Taxable.Income'],color = 'b',shade=True)"
   ]
  },
  {
   "cell_type": "markdown",
   "id": "10026df1",
   "metadata": {},
   "source": [
    "#### Most of people have Taxable Income between 10K to 1 Lacs.  "
   ]
  },
  {
   "cell_type": "code",
   "execution_count": 10,
   "id": "4de5f4cc",
   "metadata": {
    "ExecuteTime": {
     "end_time": "2022-05-31T18:36:07.770997Z",
     "start_time": "2022-05-31T18:36:07.740000Z"
    }
   },
   "outputs": [
    {
     "data": {
      "text/plain": [
       "['Undergrad', 'Marital.Status', 'Urban']"
      ]
     },
     "execution_count": 10,
     "metadata": {},
     "output_type": "execute_result"
    }
   ],
   "source": [
    "objects = fraud.select_dtypes(include='object').columns.tolist()\n",
    "objects"
   ]
  },
  {
   "cell_type": "code",
   "execution_count": 11,
   "id": "2383326e",
   "metadata": {
    "ExecuteTime": {
     "end_time": "2022-05-31T18:36:08.228884Z",
     "start_time": "2022-05-31T18:36:07.775987Z"
    }
   },
   "outputs": [
    {
     "data": {
      "image/png": "[encoded data removed]",
      "text/plain": [
       "<Figure size 1152x504 with 3 Axes>"
      ]
     },
     "metadata": {
      "needs_background": "light"
     },
     "output_type": "display_data"
    }
   ],
   "source": [
    "plt.figure(figsize=(16,7))\n",
    "for i,col in enumerate(objects,1):\n",
    "    plt.subplot(2,2,i)\n",
    "    sns.countplot(data=fraud,y=col)"
   ]
  },
  {
   "cell_type": "code",
   "execution_count": 12,
   "id": "e96e0b76",
   "metadata": {
    "ExecuteTime": {
     "end_time": "2022-05-31T18:36:08.244834Z",
     "start_time": "2022-05-31T18:36:08.231842Z"
    }
   },
   "outputs": [
    {
     "data": {
      "text/plain": [
       "YES    312\n",
       "NO     288\n",
       "Name: Undergrad, dtype: int64"
      ]
     },
     "execution_count": 12,
     "metadata": {},
     "output_type": "execute_result"
    }
   ],
   "source": [
    "fraud['Undergrad'].value_counts()"
   ]
  },
  {
   "cell_type": "code",
   "execution_count": 13,
   "id": "a5f524e2",
   "metadata": {
    "ExecuteTime": {
     "end_time": "2022-05-31T18:36:08.274829Z",
     "start_time": "2022-05-31T18:36:08.249834Z"
    }
   },
   "outputs": [
    {
     "data": {
      "text/plain": [
       "Single      217\n",
       "Married     194\n",
       "Divorced    189\n",
       "Name: Marital.Status, dtype: int64"
      ]
     },
     "execution_count": 13,
     "metadata": {},
     "output_type": "execute_result"
    }
   ],
   "source": [
    "fraud['Marital.Status'].value_counts()"
   ]
  },
  {
   "cell_type": "code",
   "execution_count": 14,
   "id": "dcb83ae8",
   "metadata": {
    "ExecuteTime": {
     "end_time": "2022-05-31T18:36:08.305814Z",
     "start_time": "2022-05-31T18:36:08.278824Z"
    }
   },
   "outputs": [
    {
     "data": {
      "text/plain": [
       "YES    302\n",
       "NO     298\n",
       "Name: Urban, dtype: int64"
      ]
     },
     "execution_count": 14,
     "metadata": {},
     "output_type": "execute_result"
    }
   ],
   "source": [
    "fraud['Urban'].value_counts()"
   ]
  },
  {
   "cell_type": "code",
   "execution_count": 15,
   "id": "f60c9f9a",
   "metadata": {
    "ExecuteTime": {
     "end_time": "2022-05-31T18:36:08.336809Z",
     "start_time": "2022-05-31T18:36:08.309815Z"
    }
   },
   "outputs": [
    {
     "data": {
      "text/plain": [
       "['Taxable.Income', 'City.Population', 'Work.Experience']"
      ]
     },
     "execution_count": 15,
     "metadata": {},
     "output_type": "execute_result"
    }
   ],
   "source": [
    "nonobject = fraud.select_dtypes(exclude='object').columns.tolist()\n",
    "nonobject"
   ]
  },
  {
   "cell_type": "code",
   "execution_count": 16,
   "id": "d2176b40",
   "metadata": {
    "ExecuteTime": {
     "end_time": "2022-05-31T18:36:08.985596Z",
     "start_time": "2022-05-31T18:36:08.340805Z"
    }
   },
   "outputs": [
    {
     "data": {
      "image/png": "[encoded data removed]",
      "text/plain": [
       "<Figure size 1008x720 with 3 Axes>"
      ]
     },
     "metadata": {
      "needs_background": "light"
     },
     "output_type": "display_data"
    }
   ],
   "source": [
    "plt.figure(figsize=(14,10))\n",
    "for i,col in enumerate(nonobject,1):\n",
    "    plt.subplot(2,2,i)\n",
    "    sns.kdeplot(data=fraud[col],shade=True,color='r')"
   ]
  },
  {
   "cell_type": "code",
   "execution_count": 17,
   "id": "b4ad8002",
   "metadata": {
    "ExecuteTime": {
     "end_time": "2022-05-31T18:36:10.119252Z",
     "start_time": "2022-05-31T18:36:08.989598Z"
    }
   },
   "outputs": [
    {
     "data": {
      "text/plain": [
       "<AxesSubplot:>"
      ]
     },
     "execution_count": 17,
     "metadata": {},
     "output_type": "execute_result"
    },
    {
     "data": {
      "image/png": "[encoded data removed]",
      "text/plain": [
       "<Figure size 1152x720 with 2 Axes>"
      ]
     },
     "metadata": {
      "needs_background": "light"
     },
     "output_type": "display_data"
    }
   ],
   "source": [
    "plt.figure(figsize=(16,10))\n",
    "sns.heatmap(fraudnew.corr(),annot=True)"
   ]
  },
  {
   "cell_type": "markdown",
   "id": "b0239517",
   "metadata": {},
   "source": [
    "## Model Building - Random Forest"
   ]
  },
  {
   "cell_type": "markdown",
   "id": "459fd51a",
   "metadata": {},
   "source": [
    "### Treating those who have taxable_income <= 30000 as \"Risky\" and others are \"Good\""
   ]
  },
  {
   "cell_type": "code",
   "execution_count": 18,
   "id": "bc0aea2b",
   "metadata": {
    "ExecuteTime": {
     "end_time": "2022-05-31T18:36:10.151242Z",
     "start_time": "2022-05-31T18:36:10.123251Z"
    }
   },
   "outputs": [
    {
     "data": {
      "text/plain": [
       "Good     476\n",
       "Risky    124\n",
       "Name: Taxable.Income, dtype: int64"
      ]
     },
     "execution_count": 18,
     "metadata": {},
     "output_type": "execute_result"
    }
   ],
   "source": [
    "fraudnew['Taxable.Income'] = pd.cut(fraudnew['Taxable.Income'],bins=[0,30000,100000],labels=['Risky','Good'])\n",
    "fraudnew['Taxable.Income'].value_counts()"
   ]
  },
  {
   "cell_type": "code",
   "execution_count": 19,
   "id": "080c8e81",
   "metadata": {
    "ExecuteTime": {
     "end_time": "2022-05-31T18:36:10.167238Z",
     "start_time": "2022-05-31T18:36:10.157241Z"
    }
   },
   "outputs": [],
   "source": [
    "x = fraudnew.iloc[:,1:]\n",
    "y = fraudnew.iloc[:,0]"
   ]
  },
  {
   "cell_type": "code",
   "execution_count": 20,
   "id": "642c5d50",
   "metadata": {
    "ExecuteTime": {
     "end_time": "2022-05-31T18:36:10.198228Z",
     "start_time": "2022-05-31T18:36:10.175236Z"
    }
   },
   "outputs": [],
   "source": [
    "xtrain,xtest,ytrain,ytest = train_test_split(x,y,test_size=0.2,random_state=300)"
   ]
  },
  {
   "cell_type": "code",
   "execution_count": 21,
   "id": "2cdfb4d9",
   "metadata": {
    "ExecuteTime": {
     "end_time": "2022-05-31T18:36:10.245212Z",
     "start_time": "2022-05-31T18:36:10.223219Z"
    }
   },
   "outputs": [
    {
     "data": {
      "text/plain": [
       "Good     376\n",
       "Risky    104\n",
       "Name: Taxable.Income, dtype: int64"
      ]
     },
     "execution_count": 21,
     "metadata": {},
     "output_type": "execute_result"
    }
   ],
   "source": [
    "ytrain.value_counts()"
   ]
  },
  {
   "cell_type": "code",
   "execution_count": 22,
   "id": "cebe25b9",
   "metadata": {
    "ExecuteTime": {
     "end_time": "2022-05-31T18:36:14.393790Z",
     "start_time": "2022-05-31T18:36:10.250211Z"
    }
   },
   "outputs": [],
   "source": [
    "kfold = KFold(n_splits=10,random_state=300, shuffle=True)\n",
    "model = RandomForestClassifier(n_estimators=150,max_features=6)\n",
    "result = cross_val_score(model,xtrain,ytrain,cv=kfold)"
   ]
  },
  {
   "cell_type": "code",
   "execution_count": 23,
   "id": "e100ddbe",
   "metadata": {
    "ExecuteTime": {
     "end_time": "2022-05-31T18:36:14.413788Z",
     "start_time": "2022-05-31T18:36:14.395794Z"
    }
   },
   "outputs": [
    {
     "data": {
      "text/plain": [
       "array([0.8125    , 0.66666667, 0.64583333, 0.70833333, 0.64583333,\n",
       "       0.64583333, 0.8125    , 0.8125    , 0.75      , 0.6875    ])"
      ]
     },
     "execution_count": 23,
     "metadata": {},
     "output_type": "execute_result"
    }
   ],
   "source": [
    "result"
   ]
  },
  {
   "cell_type": "code",
   "execution_count": 24,
   "id": "c851f093",
   "metadata": {
    "ExecuteTime": {
     "end_time": "2022-05-31T18:36:14.441788Z",
     "start_time": "2022-05-31T18:36:14.418787Z"
    }
   },
   "outputs": [
    {
     "data": {
      "text/plain": [
       "0.71875"
      ]
     },
     "execution_count": 24,
     "metadata": {},
     "output_type": "execute_result"
    }
   ],
   "source": [
    "result.mean()"
   ]
  },
  {
   "cell_type": "code",
   "execution_count": 25,
   "id": "75d6353e",
   "metadata": {
    "ExecuteTime": {
     "end_time": "2022-05-31T18:36:14.917700Z",
     "start_time": "2022-05-31T18:36:14.447779Z"
    }
   },
   "outputs": [
    {
     "data": {
      "text/plain": [
       "RandomForestClassifier(max_features=6, n_estimators=150)"
      ]
     },
     "execution_count": 25,
     "metadata": {},
     "output_type": "execute_result"
    }
   ],
   "source": [
    "model.fit(xtrain,ytrain)"
   ]
  },
  {
   "cell_type": "code",
   "execution_count": 26,
   "id": "ba52a0a5",
   "metadata": {
    "ExecuteTime": {
     "end_time": "2022-05-31T18:36:14.979737Z",
     "start_time": "2022-05-31T18:36:14.921681Z"
    }
   },
   "outputs": [
    {
     "data": {
      "text/plain": [
       "array(['Good', 'Good', 'Good', 'Good', 'Good', 'Good', 'Good', 'Good',\n",
       "       'Good', 'Good', 'Good', 'Good', 'Risky', 'Good', 'Good', 'Good',\n",
       "       'Good', 'Good', 'Good', 'Risky', 'Good', 'Good', 'Good', 'Good',\n",
       "       'Good', 'Good', 'Good', 'Good', 'Good', 'Good', 'Risky', 'Good',\n",
       "       'Good', 'Good', 'Good', 'Good', 'Good', 'Good', 'Good', 'Good',\n",
       "       'Good', 'Good', 'Good', 'Good', 'Good', 'Good', 'Good', 'Good',\n",
       "       'Good', 'Good', 'Good', 'Good', 'Good', 'Good', 'Good', 'Good',\n",
       "       'Good', 'Good', 'Good', 'Good', 'Good', 'Good', 'Risky', 'Good',\n",
       "       'Good', 'Risky', 'Good', 'Good', 'Good', 'Risky', 'Good', 'Good',\n",
       "       'Good', 'Good', 'Good', 'Good', 'Good', 'Good', 'Good', 'Good',\n",
       "       'Good', 'Good', 'Good', 'Good', 'Good', 'Good', 'Good', 'Good',\n",
       "       'Good', 'Good', 'Good', 'Good', 'Good', 'Good', 'Good', 'Good',\n",
       "       'Good', 'Good', 'Good', 'Risky', 'Good', 'Good', 'Good', 'Risky',\n",
       "       'Good', 'Good', 'Good', 'Good', 'Good', 'Good', 'Risky', 'Good',\n",
       "       'Good', 'Good', 'Good', 'Good', 'Good', 'Good', 'Good', 'Risky'],\n",
       "      dtype=object)"
      ]
     },
     "execution_count": 26,
     "metadata": {},
     "output_type": "execute_result"
    }
   ],
   "source": [
    "pred = model.predict(xtest)\n",
    "pred"
   ]
  },
  {
   "cell_type": "code",
   "execution_count": 27,
   "id": "84a8d065",
   "metadata": {
    "ExecuteTime": {
     "end_time": "2022-05-31T18:36:15.011651Z",
     "start_time": "2022-05-31T18:36:14.988658Z"
    }
   },
   "outputs": [
    {
     "data": {
      "text/plain": [
       "0.7833333333333333"
      ]
     },
     "execution_count": 27,
     "metadata": {},
     "output_type": "execute_result"
    }
   ],
   "source": [
    "accuracy_score(ytest,pred)"
   ]
  },
  {
   "cell_type": "code",
   "execution_count": 28,
   "id": "4f57d413",
   "metadata": {
    "ExecuteTime": {
     "end_time": "2022-05-31T18:36:15.043640Z",
     "start_time": "2022-05-31T18:36:15.015655Z"
    },
    "scrolled": true
   },
   "outputs": [
    {
     "data": {
      "text/plain": [
       "array([[92,  8],\n",
       "       [18,  2]], dtype=int64)"
      ]
     },
     "execution_count": 28,
     "metadata": {},
     "output_type": "execute_result"
    }
   ],
   "source": [
    "confusion_matrix(ytest,pred)"
   ]
  },
  {
   "cell_type": "markdown",
   "id": "6215a466",
   "metadata": {},
   "source": [
    "# Model Interpretetion\n",
    "\n",
    "### Accuracy on the test data is 78% . \n",
    "Note :- Accuracy keeps changing as the data changes in test split.\n",
    "#### We get 94 variables correctly calassified and 26 wrongly predicted by the model."
   ]
  }
 ],
 "metadata": {
  "kernelspec": {
   "display_name": "Python 3 (ipykernel)",
   "language": "python",
   "name": "python3"
  },
  "language_info": {
   "codemirror_mode": {
    "name": "ipython",
    "version": 3
   },
   "file_extension": ".py",
   "mimetype": "text/x-python",
   "name": "python",
   "nbconvert_exporter": "python",
   "pygments_lexer": "ipython3",
   "version": "3.9.7"
  }
 },
 "nbformat": 4,
 "nbformat_minor": 5
}
