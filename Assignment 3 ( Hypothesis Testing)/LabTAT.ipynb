{
 "cells": [
  {
   "cell_type": "markdown",
   "id": "f1e9ff46",
   "metadata": {},
   "source": [
    "# Question 2"
   ]
  },
  {
   "cell_type": "markdown",
   "id": "079121bb",
   "metadata": {},
   "source": [
    "### A hospital wants to determine whether there is any difference in the average Turn Around Time (TAT) of reports of the laboratories on their preferred list. They collected a random sample and recorded TAT for reports of 4 laboratories. TAT is defined as sample collected to report dispatch.\n",
    "   \n",
    "- Analyze the data and determine whether there is any difference in average TAT among the different laboratories at 5% significance level."
   ]
  },
  {
   "cell_type": "markdown",
   "id": "2e2b21e0",
   "metadata": {},
   "source": [
    "### Data Description \n",
    "- α == 0.05 (95% Confidence)\n",
    "- Y == Continious\n",
    "- X == Discrete\n",
    "- Is Y1, Y2, Y3 and Y4 normal ?\n",
    "- H0 = Y1, Y2, Y3 and Y4 are normal\n",
    "- H1 = Y1, Y2, Y3 and Y4 are not normal"
   ]
  },
  {
   "cell_type": "code",
   "execution_count": 1,
   "id": "d733fac6",
   "metadata": {
    "ExecuteTime": {
     "end_time": "2022-05-10T07:50:00.972593Z",
     "start_time": "2022-05-10T07:49:58.827811Z"
    }
   },
   "outputs": [],
   "source": [
    "import pandas as pd\n",
    "import numpy as np\n",
    "from scipy import stats"
   ]
  },
  {
   "cell_type": "code",
   "execution_count": 2,
   "id": "b85ce872",
   "metadata": {
    "ExecuteTime": {
     "end_time": "2022-05-10T07:50:01.048569Z",
     "start_time": "2022-05-10T07:50:00.978592Z"
    },
    "scrolled": true
   },
   "outputs": [
    {
     "data": {
      "text/html": [
       "<div>\n",
       "<style scoped>\n",
       "    .dataframe tbody tr th:only-of-type {\n",
       "        vertical-align: middle;\n",
       "    }\n",
       "\n",
       "    .dataframe tbody tr th {\n",
       "        vertical-align: top;\n",
       "    }\n",
       "\n",
       "    .dataframe thead th {\n",
       "        text-align: right;\n",
       "    }\n",
       "</style>\n",
       "<table border=\"1\" class=\"dataframe\">\n",
       "  <thead>\n",
       "    <tr style=\"text-align: right;\">\n",
       "      <th></th>\n",
       "      <th>Laboratory 1</th>\n",
       "      <th>Laboratory 2</th>\n",
       "      <th>Laboratory 3</th>\n",
       "      <th>Laboratory 4</th>\n",
       "    </tr>\n",
       "  </thead>\n",
       "  <tbody>\n",
       "    <tr>\n",
       "      <th>0</th>\n",
       "      <td>185.35</td>\n",
       "      <td>165.53</td>\n",
       "      <td>176.70</td>\n",
       "      <td>166.13</td>\n",
       "    </tr>\n",
       "    <tr>\n",
       "      <th>1</th>\n",
       "      <td>170.49</td>\n",
       "      <td>185.91</td>\n",
       "      <td>198.45</td>\n",
       "      <td>160.79</td>\n",
       "    </tr>\n",
       "    <tr>\n",
       "      <th>2</th>\n",
       "      <td>192.77</td>\n",
       "      <td>194.92</td>\n",
       "      <td>201.23</td>\n",
       "      <td>185.18</td>\n",
       "    </tr>\n",
       "    <tr>\n",
       "      <th>3</th>\n",
       "      <td>177.33</td>\n",
       "      <td>183.00</td>\n",
       "      <td>199.61</td>\n",
       "      <td>176.42</td>\n",
       "    </tr>\n",
       "    <tr>\n",
       "      <th>4</th>\n",
       "      <td>193.41</td>\n",
       "      <td>169.57</td>\n",
       "      <td>204.63</td>\n",
       "      <td>152.60</td>\n",
       "    </tr>\n",
       "    <tr>\n",
       "      <th>...</th>\n",
       "      <td>...</td>\n",
       "      <td>...</td>\n",
       "      <td>...</td>\n",
       "      <td>...</td>\n",
       "    </tr>\n",
       "    <tr>\n",
       "      <th>115</th>\n",
       "      <td>178.49</td>\n",
       "      <td>170.66</td>\n",
       "      <td>193.80</td>\n",
       "      <td>172.68</td>\n",
       "    </tr>\n",
       "    <tr>\n",
       "      <th>116</th>\n",
       "      <td>176.08</td>\n",
       "      <td>183.98</td>\n",
       "      <td>215.25</td>\n",
       "      <td>177.64</td>\n",
       "    </tr>\n",
       "    <tr>\n",
       "      <th>117</th>\n",
       "      <td>202.48</td>\n",
       "      <td>174.54</td>\n",
       "      <td>203.99</td>\n",
       "      <td>170.27</td>\n",
       "    </tr>\n",
       "    <tr>\n",
       "      <th>118</th>\n",
       "      <td>182.40</td>\n",
       "      <td>197.18</td>\n",
       "      <td>194.52</td>\n",
       "      <td>150.87</td>\n",
       "    </tr>\n",
       "    <tr>\n",
       "      <th>119</th>\n",
       "      <td>182.09</td>\n",
       "      <td>215.17</td>\n",
       "      <td>221.49</td>\n",
       "      <td>162.21</td>\n",
       "    </tr>\n",
       "  </tbody>\n",
       "</table>\n",
       "<p>120 rows × 4 columns</p>\n",
       "</div>"
      ],
      "text/plain": [
       "     Laboratory 1  Laboratory 2  Laboratory 3  Laboratory 4\n",
       "0          185.35        165.53        176.70        166.13\n",
       "1          170.49        185.91        198.45        160.79\n",
       "2          192.77        194.92        201.23        185.18\n",
       "3          177.33        183.00        199.61        176.42\n",
       "4          193.41        169.57        204.63        152.60\n",
       "..            ...           ...           ...           ...\n",
       "115        178.49        170.66        193.80        172.68\n",
       "116        176.08        183.98        215.25        177.64\n",
       "117        202.48        174.54        203.99        170.27\n",
       "118        182.40        197.18        194.52        150.87\n",
       "119        182.09        215.17        221.49        162.21\n",
       "\n",
       "[120 rows x 4 columns]"
      ]
     },
     "execution_count": 2,
     "metadata": {},
     "output_type": "execute_result"
    }
   ],
   "source": [
    "lab=pd.read_csv(\"LabTAT.csv\")\n",
    "lab"
   ]
  },
  {
   "cell_type": "code",
   "execution_count": 3,
   "id": "9260af8d",
   "metadata": {
    "ExecuteTime": {
     "end_time": "2022-05-10T07:50:01.064563Z",
     "start_time": "2022-05-10T07:50:01.054567Z"
    }
   },
   "outputs": [
    {
     "data": {
      "text/plain": [
       "ShapiroResult(statistic=0.9901824593544006, pvalue=0.5506953597068787)"
      ]
     },
     "execution_count": 3,
     "metadata": {},
     "output_type": "execute_result"
    }
   ],
   "source": [
    "# Normality test\n",
    "stats.shapiro(lab[\"Laboratory 1\"])"
   ]
  },
  {
   "cell_type": "markdown",
   "id": "b644c0f6",
   "metadata": {},
   "source": [
    "- pvalue of Laboratory 1 is 0.55==>α"
   ]
  },
  {
   "cell_type": "code",
   "execution_count": 4,
   "id": "8faacf05",
   "metadata": {
    "ExecuteTime": {
     "end_time": "2022-05-10T07:50:01.094553Z",
     "start_time": "2022-05-10T07:50:01.073560Z"
    }
   },
   "outputs": [
    {
     "data": {
      "text/plain": [
       "ShapiroResult(statistic=0.9936322569847107, pvalue=0.8637524843215942)"
      ]
     },
     "execution_count": 4,
     "metadata": {},
     "output_type": "execute_result"
    }
   ],
   "source": [
    "# Lab 2\n",
    "stats.shapiro(lab[\"Laboratory 2\"])"
   ]
  },
  {
   "cell_type": "markdown",
   "id": "828a1cfc",
   "metadata": {},
   "source": [
    "-  pvalue of Laboratory 1 is 0.86==>α"
   ]
  },
  {
   "cell_type": "code",
   "execution_count": 5,
   "id": "2ab6a0ae",
   "metadata": {
    "ExecuteTime": {
     "end_time": "2022-05-10T07:50:01.109549Z",
     "start_time": "2022-05-10T07:50:01.098553Z"
    }
   },
   "outputs": [
    {
     "data": {
      "text/plain": [
       "ShapiroResult(statistic=0.9886345267295837, pvalue=0.4205053448677063)"
      ]
     },
     "execution_count": 5,
     "metadata": {},
     "output_type": "execute_result"
    }
   ],
   "source": [
    "# Lab 3\n",
    "stats.shapiro(lab[\"Laboratory 3\"])"
   ]
  },
  {
   "cell_type": "markdown",
   "id": "c636e84e",
   "metadata": {},
   "source": [
    "-  pvalue of Laboratory 1 is 0.42==>α"
   ]
  },
  {
   "cell_type": "code",
   "execution_count": 6,
   "id": "5eaef558",
   "metadata": {
    "ExecuteTime": {
     "end_time": "2022-05-10T07:50:01.143537Z",
     "start_time": "2022-05-10T07:50:01.116547Z"
    }
   },
   "outputs": [
    {
     "data": {
      "text/plain": [
       "ShapiroResult(statistic=0.9913753271102905, pvalue=0.6618951559066772)"
      ]
     },
     "execution_count": 6,
     "metadata": {},
     "output_type": "execute_result"
    }
   ],
   "source": [
    "# Lab 4\n",
    "stats.shapiro(lab[\"Laboratory 4\"])"
   ]
  },
  {
   "cell_type": "markdown",
   "id": "98e7d781",
   "metadata": {},
   "source": [
    "-  pvalue of Laboratory 1 is 0.66==>α"
   ]
  },
  {
   "cell_type": "markdown",
   "id": "0a29964e",
   "metadata": {},
   "source": [
    "## H0 is normal because Y1,Y2,Y3,&Y4 are normal"
   ]
  },
  {
   "cell_type": "markdown",
   "id": "eb0a92ac",
   "metadata": {},
   "source": [
    "# Finding Variance\n",
    "- H0== variance of all 4 laboratries are same\n",
    "- H1== variance of all 4 laboratories are not same"
   ]
  },
  {
   "cell_type": "code",
   "execution_count": 7,
   "id": "b129fc19",
   "metadata": {
    "ExecuteTime": {
     "end_time": "2022-05-10T07:50:01.187523Z",
     "start_time": "2022-05-10T07:50:01.151535Z"
    }
   },
   "outputs": [
    {
     "data": {
      "text/plain": [
       "LeveneResult(statistic=2.599642500418024, pvalue=0.05161343808309816)"
      ]
     },
     "execution_count": 7,
     "metadata": {},
     "output_type": "execute_result"
    }
   ],
   "source": [
    "# The Levene test tests the null hypothesis that all input samples are from populations with equal variances.\n",
    "stats.levene(lab[\"Laboratory 1\"], lab[\"Laboratory 2\"], lab[\"Laboratory 3\"], lab[\"Laboratory 4\"])"
   ]
  },
  {
   "cell_type": "markdown",
   "id": "b44bd4ac",
   "metadata": {},
   "source": [
    "### pvalue of levene test is 0.51>α i.e H0 is accepted nothing is changed"
   ]
  },
  {
   "cell_type": "markdown",
   "id": "339cb508",
   "metadata": {},
   "source": [
    "# Performing anova test \n",
    "- The one-way analysis of variance (ANOVA) is used to determine whether there are any statistically significant differences between the means of three or more independent (unrelated) groups.\n",
    "- H0= turn around time are same\n",
    "- H1= turn around time are not same"
   ]
  },
  {
   "cell_type": "code",
   "execution_count": 8,
   "id": "2e7e3b90",
   "metadata": {
    "ExecuteTime": {
     "end_time": "2022-05-10T07:50:01.235508Z",
     "start_time": "2022-05-10T07:50:01.193521Z"
    }
   },
   "outputs": [
    {
     "data": {
      "text/plain": [
       "F_onewayResult(statistic=118.70421654401437, pvalue=2.1156708949992414e-57)"
      ]
     },
     "execution_count": 8,
     "metadata": {},
     "output_type": "execute_result"
    }
   ],
   "source": [
    "stats.stats.f_oneway(lab[\"Laboratory 1\"], lab[\"Laboratory 2\"], lab[\"Laboratory 3\"], lab[\"Laboratory 4\"])"
   ]
  },
  {
   "cell_type": "markdown",
   "id": "b64df843",
   "metadata": {},
   "source": [
    "- pvalue of anova test is 2.11 < α\n",
    "### H1 is accepted because there is a difference between TAT in all laboratories"
   ]
  }
 ],
 "metadata": {
  "kernelspec": {
   "display_name": "Python 3 (ipykernel)",
   "language": "python",
   "name": "python3"
  },
  "language_info": {
   "codemirror_mode": {
    "name": "ipython",
    "version": 3
   },
   "file_extension": ".py",
   "mimetype": "text/x-python",
   "name": "python",
   "nbconvert_exporter": "python",
   "pygments_lexer": "ipython3",
   "version": "3.9.7"
  }
 },
 "nbformat": 4,
 "nbformat_minor": 5
}
