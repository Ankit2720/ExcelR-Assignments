{
 "cells": [
  {
   "cell_type": "markdown",
   "id": "36947543",
   "metadata": {},
   "source": [
    "# Question 3"
   ]
  },
  {
   "cell_type": "markdown",
   "id": "480af7da",
   "metadata": {},
   "source": [
    "## Sales of products in four different regions is tabulated for males and females. Find if male-female buyer rations are similar across regions."
   ]
  },
  {
   "cell_type": "markdown",
   "id": "dd0ac0b9",
   "metadata": {},
   "source": [
    "### Data Description\n",
    "- α == 0.05 (95% Confidence)\n",
    "- Y == Discrete\n",
    "- X == Discrete\n",
    "\n",
    "### Since there are more than 2 variable we will perform Chi-Square test"
   ]
  },
  {
   "cell_type": "code",
   "execution_count": 1,
   "id": "c94b501e",
   "metadata": {
    "ExecuteTime": {
     "end_time": "2022-05-10T07:48:18.499731Z",
     "start_time": "2022-05-10T07:48:16.687300Z"
    }
   },
   "outputs": [],
   "source": [
    "import pandas as pd\n",
    "import numpy as np\n",
    "from scipy import stats"
   ]
  },
  {
   "cell_type": "code",
   "execution_count": 2,
   "id": "8c24bc68",
   "metadata": {
    "ExecuteTime": {
     "end_time": "2022-05-10T07:48:18.547696Z",
     "start_time": "2022-05-10T07:48:18.503709Z"
    }
   },
   "outputs": [
    {
     "data": {
      "text/html": [
       "<div>\n",
       "<style scoped>\n",
       "    .dataframe tbody tr th:only-of-type {\n",
       "        vertical-align: middle;\n",
       "    }\n",
       "\n",
       "    .dataframe tbody tr th {\n",
       "        vertical-align: top;\n",
       "    }\n",
       "\n",
       "    .dataframe thead th {\n",
       "        text-align: right;\n",
       "    }\n",
       "</style>\n",
       "<table border=\"1\" class=\"dataframe\">\n",
       "  <thead>\n",
       "    <tr style=\"text-align: right;\">\n",
       "      <th></th>\n",
       "      <th>Observed Values</th>\n",
       "      <th>East</th>\n",
       "      <th>West</th>\n",
       "      <th>North</th>\n",
       "      <th>South</th>\n",
       "    </tr>\n",
       "  </thead>\n",
       "  <tbody>\n",
       "    <tr>\n",
       "      <th>0</th>\n",
       "      <td>Males</td>\n",
       "      <td>50</td>\n",
       "      <td>142</td>\n",
       "      <td>131</td>\n",
       "      <td>70</td>\n",
       "    </tr>\n",
       "    <tr>\n",
       "      <th>1</th>\n",
       "      <td>Females</td>\n",
       "      <td>435</td>\n",
       "      <td>1523</td>\n",
       "      <td>1356</td>\n",
       "      <td>750</td>\n",
       "    </tr>\n",
       "  </tbody>\n",
       "</table>\n",
       "</div>"
      ],
      "text/plain": [
       "  Observed Values  East  West  North  South\n",
       "0           Males    50   142    131     70\n",
       "1         Females   435  1523   1356    750"
      ]
     },
     "execution_count": 2,
     "metadata": {},
     "output_type": "execute_result"
    }
   ],
   "source": [
    "buy=pd.read_csv(\"BuyerRatio.csv\")\n",
    "buy"
   ]
  },
  {
   "cell_type": "markdown",
   "id": "1ad43fab",
   "metadata": {},
   "source": [
    "- H0 = Male,Female buyer rations are similar across all region\n",
    "- H1 = Male,Female buer rations are not similar across all region"
   ]
  },
  {
   "cell_type": "code",
   "execution_count": 3,
   "id": "96aa09c6",
   "metadata": {
    "ExecuteTime": {
     "end_time": "2022-05-10T07:48:18.577685Z",
     "start_time": "2022-05-10T07:48:18.553696Z"
    }
   },
   "outputs": [
    {
     "data": {
      "text/plain": [
       "(1.5959455386610577,\n",
       " 0.6603094907091882,\n",
       " 3,\n",
       " array([[  42.76531299,  442.23468701],\n",
       "        [ 146.81287862, 1518.18712138],\n",
       "        [ 131.11756787, 1355.88243213],\n",
       "        [  72.30424052,  747.69575948]]))"
      ]
     },
     "execution_count": 3,
     "metadata": {},
     "output_type": "execute_result"
    }
   ],
   "source": [
    "stats.chi2_contingency([buy[\"East\"], buy[\"West\"], buy[\"North\"], buy[\"South\"]])"
   ]
  },
  {
   "cell_type": "markdown",
   "id": "970936ef",
   "metadata": {},
   "source": [
    "- pvalue of Chi-Square test is 0.66>α\n",
    "## Hence H0 is accepted because all proportions are equal."
   ]
  }
 ],
 "metadata": {
  "kernelspec": {
   "display_name": "Python 3 (ipykernel)",
   "language": "python",
   "name": "python3"
  },
  "language_info": {
   "codemirror_mode": {
    "name": "ipython",
    "version": 3
   },
   "file_extension": ".py",
   "mimetype": "text/x-python",
   "name": "python",
   "nbconvert_exporter": "python",
   "pygments_lexer": "ipython3",
   "version": "3.9.7"
  }
 },
 "nbformat": 4,
 "nbformat_minor": 5
}
