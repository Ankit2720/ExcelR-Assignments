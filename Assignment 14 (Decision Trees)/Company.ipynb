{
 "cells": [
  {
   "cell_type": "markdown",
   "id": "118f8662",
   "metadata": {},
   "source": [
    "# Question 1\n",
    "## A cloth manufacturing company is interested to know about the segment or attributes causes high sale. \n",
    "- Approach - A decision tree can be built with target variable Sale (we will first convert it in categorical variable) & all other variable will be independent in the analysis.  "
   ]
  },
  {
   "cell_type": "code",
   "execution_count": 1,
   "id": "b41f995c",
   "metadata": {
    "ExecuteTime": {
     "end_time": "2022-05-31T18:00:04.581240Z",
     "start_time": "2022-05-31T18:00:01.844508Z"
    }
   },
   "outputs": [],
   "source": [
    "import pandas as pd\n",
    "import matplotlib.pyplot as plt\n",
    "from sklearn import datasets  \n",
    "import numpy as np\n",
    "from sklearn.model_selection import train_test_split\n",
    "from sklearn.tree import  DecisionTreeClassifier\n",
    "from sklearn import tree\n",
    "from sklearn.metrics import classification_report\n",
    "from sklearn.preprocessing import LabelEncoder"
   ]
  },
  {
   "cell_type": "code",
   "execution_count": 2,
   "id": "13d05466",
   "metadata": {
    "ExecuteTime": {
     "end_time": "2022-05-31T18:00:04.611158Z",
     "start_time": "2022-05-31T18:00:04.585135Z"
    }
   },
   "outputs": [],
   "source": [
    "df = pd.read_csv('D:\\\\Data Science\\\\Assignment 14\\\\Raw data\\\\Company_Data.csv')"
   ]
  },
  {
   "cell_type": "code",
   "execution_count": 3,
   "id": "cf854bf9",
   "metadata": {
    "ExecuteTime": {
     "end_time": "2022-05-31T18:00:04.658144Z",
     "start_time": "2022-05-31T18:00:04.616138Z"
    }
   },
   "outputs": [
    {
     "data": {
      "text/html": [
       "<div>\n",
       "<style scoped>\n",
       "    .dataframe tbody tr th:only-of-type {\n",
       "        vertical-align: middle;\n",
       "    }\n",
       "\n",
       "    .dataframe tbody tr th {\n",
       "        vertical-align: top;\n",
       "    }\n",
       "\n",
       "    .dataframe thead th {\n",
       "        text-align: right;\n",
       "    }\n",
       "</style>\n",
       "<table border=\"1\" class=\"dataframe\">\n",
       "  <thead>\n",
       "    <tr style=\"text-align: right;\">\n",
       "      <th></th>\n",
       "      <th>index</th>\n",
       "      <th>Sales</th>\n",
       "      <th>CompPrice</th>\n",
       "      <th>Income</th>\n",
       "      <th>Advertising</th>\n",
       "      <th>Population</th>\n",
       "      <th>Price</th>\n",
       "      <th>ShelveLoc</th>\n",
       "      <th>Age</th>\n",
       "      <th>Education</th>\n",
       "      <th>Urban</th>\n",
       "      <th>US</th>\n",
       "    </tr>\n",
       "  </thead>\n",
       "  <tbody>\n",
       "    <tr>\n",
       "      <th>0</th>\n",
       "      <td>0</td>\n",
       "      <td>9.50</td>\n",
       "      <td>138</td>\n",
       "      <td>73</td>\n",
       "      <td>11</td>\n",
       "      <td>276</td>\n",
       "      <td>120</td>\n",
       "      <td>Bad</td>\n",
       "      <td>42</td>\n",
       "      <td>17</td>\n",
       "      <td>Yes</td>\n",
       "      <td>Yes</td>\n",
       "    </tr>\n",
       "    <tr>\n",
       "      <th>1</th>\n",
       "      <td>1</td>\n",
       "      <td>11.22</td>\n",
       "      <td>111</td>\n",
       "      <td>48</td>\n",
       "      <td>16</td>\n",
       "      <td>260</td>\n",
       "      <td>83</td>\n",
       "      <td>Good</td>\n",
       "      <td>65</td>\n",
       "      <td>10</td>\n",
       "      <td>Yes</td>\n",
       "      <td>Yes</td>\n",
       "    </tr>\n",
       "    <tr>\n",
       "      <th>2</th>\n",
       "      <td>2</td>\n",
       "      <td>10.06</td>\n",
       "      <td>113</td>\n",
       "      <td>35</td>\n",
       "      <td>10</td>\n",
       "      <td>269</td>\n",
       "      <td>80</td>\n",
       "      <td>Medium</td>\n",
       "      <td>59</td>\n",
       "      <td>12</td>\n",
       "      <td>Yes</td>\n",
       "      <td>Yes</td>\n",
       "    </tr>\n",
       "    <tr>\n",
       "      <th>3</th>\n",
       "      <td>3</td>\n",
       "      <td>7.40</td>\n",
       "      <td>117</td>\n",
       "      <td>100</td>\n",
       "      <td>4</td>\n",
       "      <td>466</td>\n",
       "      <td>97</td>\n",
       "      <td>Medium</td>\n",
       "      <td>55</td>\n",
       "      <td>14</td>\n",
       "      <td>Yes</td>\n",
       "      <td>Yes</td>\n",
       "    </tr>\n",
       "    <tr>\n",
       "      <th>4</th>\n",
       "      <td>4</td>\n",
       "      <td>4.15</td>\n",
       "      <td>141</td>\n",
       "      <td>64</td>\n",
       "      <td>3</td>\n",
       "      <td>340</td>\n",
       "      <td>128</td>\n",
       "      <td>Bad</td>\n",
       "      <td>38</td>\n",
       "      <td>13</td>\n",
       "      <td>Yes</td>\n",
       "      <td>No</td>\n",
       "    </tr>\n",
       "    <tr>\n",
       "      <th>...</th>\n",
       "      <td>...</td>\n",
       "      <td>...</td>\n",
       "      <td>...</td>\n",
       "      <td>...</td>\n",
       "      <td>...</td>\n",
       "      <td>...</td>\n",
       "      <td>...</td>\n",
       "      <td>...</td>\n",
       "      <td>...</td>\n",
       "      <td>...</td>\n",
       "      <td>...</td>\n",
       "      <td>...</td>\n",
       "    </tr>\n",
       "    <tr>\n",
       "      <th>395</th>\n",
       "      <td>395</td>\n",
       "      <td>12.57</td>\n",
       "      <td>138</td>\n",
       "      <td>108</td>\n",
       "      <td>17</td>\n",
       "      <td>203</td>\n",
       "      <td>128</td>\n",
       "      <td>Good</td>\n",
       "      <td>33</td>\n",
       "      <td>14</td>\n",
       "      <td>Yes</td>\n",
       "      <td>Yes</td>\n",
       "    </tr>\n",
       "    <tr>\n",
       "      <th>396</th>\n",
       "      <td>396</td>\n",
       "      <td>6.14</td>\n",
       "      <td>139</td>\n",
       "      <td>23</td>\n",
       "      <td>3</td>\n",
       "      <td>37</td>\n",
       "      <td>120</td>\n",
       "      <td>Medium</td>\n",
       "      <td>55</td>\n",
       "      <td>11</td>\n",
       "      <td>No</td>\n",
       "      <td>Yes</td>\n",
       "    </tr>\n",
       "    <tr>\n",
       "      <th>397</th>\n",
       "      <td>397</td>\n",
       "      <td>7.41</td>\n",
       "      <td>162</td>\n",
       "      <td>26</td>\n",
       "      <td>12</td>\n",
       "      <td>368</td>\n",
       "      <td>159</td>\n",
       "      <td>Medium</td>\n",
       "      <td>40</td>\n",
       "      <td>18</td>\n",
       "      <td>Yes</td>\n",
       "      <td>Yes</td>\n",
       "    </tr>\n",
       "    <tr>\n",
       "      <th>398</th>\n",
       "      <td>398</td>\n",
       "      <td>5.94</td>\n",
       "      <td>100</td>\n",
       "      <td>79</td>\n",
       "      <td>7</td>\n",
       "      <td>284</td>\n",
       "      <td>95</td>\n",
       "      <td>Bad</td>\n",
       "      <td>50</td>\n",
       "      <td>12</td>\n",
       "      <td>Yes</td>\n",
       "      <td>Yes</td>\n",
       "    </tr>\n",
       "    <tr>\n",
       "      <th>399</th>\n",
       "      <td>399</td>\n",
       "      <td>9.71</td>\n",
       "      <td>134</td>\n",
       "      <td>37</td>\n",
       "      <td>0</td>\n",
       "      <td>27</td>\n",
       "      <td>120</td>\n",
       "      <td>Good</td>\n",
       "      <td>49</td>\n",
       "      <td>16</td>\n",
       "      <td>Yes</td>\n",
       "      <td>Yes</td>\n",
       "    </tr>\n",
       "  </tbody>\n",
       "</table>\n",
       "<p>400 rows × 12 columns</p>\n",
       "</div>"
      ],
      "text/plain": [
       "     index  Sales  CompPrice  Income  Advertising  Population  Price  \\\n",
       "0        0   9.50        138      73           11         276    120   \n",
       "1        1  11.22        111      48           16         260     83   \n",
       "2        2  10.06        113      35           10         269     80   \n",
       "3        3   7.40        117     100            4         466     97   \n",
       "4        4   4.15        141      64            3         340    128   \n",
       "..     ...    ...        ...     ...          ...         ...    ...   \n",
       "395    395  12.57        138     108           17         203    128   \n",
       "396    396   6.14        139      23            3          37    120   \n",
       "397    397   7.41        162      26           12         368    159   \n",
       "398    398   5.94        100      79            7         284     95   \n",
       "399    399   9.71        134      37            0          27    120   \n",
       "\n",
       "    ShelveLoc  Age  Education Urban   US  \n",
       "0         Bad   42         17   Yes  Yes  \n",
       "1        Good   65         10   Yes  Yes  \n",
       "2      Medium   59         12   Yes  Yes  \n",
       "3      Medium   55         14   Yes  Yes  \n",
       "4         Bad   38         13   Yes   No  \n",
       "..        ...  ...        ...   ...  ...  \n",
       "395      Good   33         14   Yes  Yes  \n",
       "396    Medium   55         11    No  Yes  \n",
       "397    Medium   40         18   Yes  Yes  \n",
       "398       Bad   50         12   Yes  Yes  \n",
       "399      Good   49         16   Yes  Yes  \n",
       "\n",
       "[400 rows x 12 columns]"
      ]
     },
     "execution_count": 3,
     "metadata": {},
     "output_type": "execute_result"
    }
   ],
   "source": [
    "df.reset_index()"
   ]
  },
  {
   "cell_type": "code",
   "execution_count": 4,
   "id": "cdc0d774",
   "metadata": {
    "ExecuteTime": {
     "end_time": "2022-05-31T18:00:04.688114Z",
     "start_time": "2022-05-31T18:00:04.662122Z"
    }
   },
   "outputs": [
    {
     "data": {
      "text/plain": [
       "Sales          0\n",
       "CompPrice      0\n",
       "Income         0\n",
       "Advertising    0\n",
       "Population     0\n",
       "Price          0\n",
       "ShelveLoc      0\n",
       "Age            0\n",
       "Education      0\n",
       "Urban          0\n",
       "US             0\n",
       "dtype: int64"
      ]
     },
     "execution_count": 4,
     "metadata": {},
     "output_type": "execute_result"
    }
   ],
   "source": [
    "df.isnull().sum()"
   ]
  },
  {
   "cell_type": "code",
   "execution_count": 5,
   "id": "5e8bed8c",
   "metadata": {
    "ExecuteTime": {
     "end_time": "2022-05-31T18:00:04.719106Z",
     "start_time": "2022-05-31T18:00:04.697113Z"
    }
   },
   "outputs": [
    {
     "data": {
      "text/plain": [
       "7.496325"
      ]
     },
     "execution_count": 5,
     "metadata": {},
     "output_type": "execute_result"
    }
   ],
   "source": [
    "df.Sales.mean()"
   ]
  },
  {
   "cell_type": "code",
   "execution_count": 6,
   "id": "d6703acd",
   "metadata": {
    "ExecuteTime": {
     "end_time": "2022-05-31T18:00:04.751113Z",
     "start_time": "2022-05-31T18:00:04.724103Z"
    }
   },
   "outputs": [],
   "source": [
    "df[\"sales\"]=\"<=7.5\"\n",
    "df.loc[df[\"Sales\"]>=7.5,\"sales\"]=\"High Sales\"\n",
    "df.loc[df[\"Sales\"]<=7.5,\"sales\"]=\"Low Sales\""
   ]
  },
  {
   "cell_type": "code",
   "execution_count": 7,
   "id": "7b0faf3b",
   "metadata": {
    "ExecuteTime": {
     "end_time": "2022-05-31T18:00:04.767090Z",
     "start_time": "2022-05-31T18:00:04.755093Z"
    }
   },
   "outputs": [],
   "source": [
    "df=df.drop([\"Sales\"],axis=1)"
   ]
  },
  {
   "cell_type": "code",
   "execution_count": 8,
   "id": "1883e418",
   "metadata": {
    "ExecuteTime": {
     "end_time": "2022-05-31T18:00:04.783083Z",
     "start_time": "2022-05-31T18:00:04.770089Z"
    }
   },
   "outputs": [],
   "source": [
    "colnames=list(df.columns)\n",
    "X=colnames[:10]\n",
    "Y=colnames[10]"
   ]
  },
  {
   "cell_type": "code",
   "execution_count": 9,
   "id": "dddf43a9",
   "metadata": {
    "ExecuteTime": {
     "end_time": "2022-05-31T18:00:04.815096Z",
     "start_time": "2022-05-31T18:00:04.787083Z"
    }
   },
   "outputs": [],
   "source": [
    "le=LabelEncoder()\n",
    "select_columns=[\"ShelveLoc\",\"Urban\",\"US\",\"sales\"]\n",
    "le.fit(df[select_columns].values.flatten())\n",
    "df[select_columns]=df[select_columns].apply(le.fit_transform)"
   ]
  },
  {
   "cell_type": "code",
   "execution_count": 10,
   "id": "20c26086",
   "metadata": {
    "ExecuteTime": {
     "end_time": "2022-05-31T18:00:04.831083Z",
     "start_time": "2022-05-31T18:00:04.818087Z"
    }
   },
   "outputs": [],
   "source": [
    "train,test=train_test_split(df,test_size=0.3)"
   ]
  },
  {
   "cell_type": "code",
   "execution_count": 11,
   "id": "1ea5c312",
   "metadata": {
    "ExecuteTime": {
     "end_time": "2022-05-31T18:00:04.863087Z",
     "start_time": "2022-05-31T18:00:04.834083Z"
    }
   },
   "outputs": [],
   "source": [
    "model=DecisionTreeClassifier(criterion=\"entropy\",max_depth=3)\n",
    "train_model=model.fit(train[X],train[Y])\n",
    "train_pred=train_model.predict(train[X])"
   ]
  },
  {
   "cell_type": "code",
   "execution_count": 12,
   "id": "fbb85663",
   "metadata": {
    "ExecuteTime": {
     "end_time": "2022-05-31T18:00:04.911074Z",
     "start_time": "2022-05-31T18:00:04.867087Z"
    }
   },
   "outputs": [
    {
     "data": {
      "text/html": [
       "<div>\n",
       "<style scoped>\n",
       "    .dataframe tbody tr th:only-of-type {\n",
       "        vertical-align: middle;\n",
       "    }\n",
       "\n",
       "    .dataframe tbody tr th {\n",
       "        vertical-align: top;\n",
       "    }\n",
       "\n",
       "    .dataframe thead th {\n",
       "        text-align: right;\n",
       "    }\n",
       "</style>\n",
       "<table border=\"1\" class=\"dataframe\">\n",
       "  <thead>\n",
       "    <tr style=\"text-align: right;\">\n",
       "      <th>col_0</th>\n",
       "      <th>0</th>\n",
       "      <th>1</th>\n",
       "    </tr>\n",
       "    <tr>\n",
       "      <th>sales</th>\n",
       "      <th></th>\n",
       "      <th></th>\n",
       "    </tr>\n",
       "  </thead>\n",
       "  <tbody>\n",
       "    <tr>\n",
       "      <th>0</th>\n",
       "      <td>124</td>\n",
       "      <td>11</td>\n",
       "    </tr>\n",
       "    <tr>\n",
       "      <th>1</th>\n",
       "      <td>49</td>\n",
       "      <td>96</td>\n",
       "    </tr>\n",
       "  </tbody>\n",
       "</table>\n",
       "</div>"
      ],
      "text/plain": [
       "col_0    0   1\n",
       "sales         \n",
       "0      124  11\n",
       "1       49  96"
      ]
     },
     "execution_count": 12,
     "metadata": {},
     "output_type": "execute_result"
    }
   ],
   "source": [
    "pd.crosstab(train[Y],train_pred)"
   ]
  },
  {
   "cell_type": "code",
   "execution_count": 13,
   "id": "88372ebf",
   "metadata": {
    "ExecuteTime": {
     "end_time": "2022-05-31T18:00:06.175282Z",
     "start_time": "2022-05-31T18:00:04.914073Z"
    }
   },
   "outputs": [
    {
     "data": {
      "image/png": "[encoded data removed]",
      "text/plain": [
       "<Figure size 1080x1080 with 1 Axes>"
      ]
     },
     "metadata": {
      "needs_background": "light"
     },
     "output_type": "display_data"
    }
   ],
   "source": [
    "plt.figure(figsize=(15 , 15 ))\n",
    "tree.plot_tree(model , fontsize= 10);"
   ]
  },
  {
   "cell_type": "code",
   "execution_count": 14,
   "id": "018fa6be",
   "metadata": {
    "ExecuteTime": {
     "end_time": "2022-05-31T18:00:06.207271Z",
     "start_time": "2022-05-31T18:00:06.183277Z"
    }
   },
   "outputs": [
    {
     "data": {
      "text/plain": [
       "0.7857142857142857"
      ]
     },
     "execution_count": 14,
     "metadata": {},
     "output_type": "execute_result"
    }
   ],
   "source": [
    "train_accu=np.mean(train.sales==model.predict(train[X]))\n",
    "train_accu"
   ]
  },
  {
   "cell_type": "code",
   "execution_count": 15,
   "id": "0eaff7a7",
   "metadata": {
    "ExecuteTime": {
     "end_time": "2022-05-31T18:00:06.254272Z",
     "start_time": "2022-05-31T18:00:06.213270Z"
    }
   },
   "outputs": [
    {
     "data": {
      "text/html": [
       "<div>\n",
       "<style scoped>\n",
       "    .dataframe tbody tr th:only-of-type {\n",
       "        vertical-align: middle;\n",
       "    }\n",
       "\n",
       "    .dataframe tbody tr th {\n",
       "        vertical-align: top;\n",
       "    }\n",
       "\n",
       "    .dataframe thead th {\n",
       "        text-align: right;\n",
       "    }\n",
       "</style>\n",
       "<table border=\"1\" class=\"dataframe\">\n",
       "  <thead>\n",
       "    <tr style=\"text-align: right;\">\n",
       "      <th>col_0</th>\n",
       "      <th>0</th>\n",
       "      <th>1</th>\n",
       "    </tr>\n",
       "    <tr>\n",
       "      <th>sales</th>\n",
       "      <th></th>\n",
       "      <th></th>\n",
       "    </tr>\n",
       "  </thead>\n",
       "  <tbody>\n",
       "    <tr>\n",
       "      <th>0</th>\n",
       "      <td>124</td>\n",
       "      <td>11</td>\n",
       "    </tr>\n",
       "    <tr>\n",
       "      <th>1</th>\n",
       "      <td>49</td>\n",
       "      <td>96</td>\n",
       "    </tr>\n",
       "  </tbody>\n",
       "</table>\n",
       "</div>"
      ],
      "text/plain": [
       "col_0    0   1\n",
       "sales         \n",
       "0      124  11\n",
       "1       49  96"
      ]
     },
     "execution_count": 15,
     "metadata": {},
     "output_type": "execute_result"
    }
   ],
   "source": [
    "train_crosstab=pd.crosstab(train[Y],train_pred)\n",
    "train_crosstab"
   ]
  },
  {
   "cell_type": "code",
   "execution_count": 16,
   "id": "cc82e4bc",
   "metadata": {
    "ExecuteTime": {
     "end_time": "2022-05-31T18:00:06.284246Z",
     "start_time": "2022-05-31T18:00:06.258257Z"
    }
   },
   "outputs": [
    {
     "data": {
      "text/plain": [
       "array([1, 0, 1, 1, 1, 0, 1, 0, 0, 0, 0, 1, 1, 1, 1, 1, 0, 0, 1, 1, 0, 1,\n",
       "       0, 1, 1, 1, 1, 0, 1, 1, 0, 0, 0, 1, 1, 0, 1, 0, 1, 1, 0, 0, 1, 1,\n",
       "       0, 1, 1, 0, 0, 0, 1, 1, 0, 0, 1, 1, 1, 0, 0, 0, 1, 0, 0, 0, 1, 1,\n",
       "       1, 1, 1, 1, 1, 0, 1, 1, 0, 1, 0, 1, 0, 0, 1, 0, 1, 0, 0, 1, 1, 1,\n",
       "       0, 0, 0, 0, 1, 1, 0, 0, 1, 1, 1, 1, 1, 1, 0, 1, 0, 1, 0, 1, 0, 1,\n",
       "       0, 0, 1, 0, 0, 0, 1, 1, 1, 1])"
      ]
     },
     "execution_count": 16,
     "metadata": {},
     "output_type": "execute_result"
    }
   ],
   "source": [
    "test_model=model.fit(test[X],test[Y])\n",
    "test_pred=test_model.predict(test[X])\n",
    "test_pred"
   ]
  },
  {
   "cell_type": "code",
   "execution_count": 17,
   "id": "7d683889",
   "metadata": {
    "ExecuteTime": {
     "end_time": "2022-05-31T18:00:06.316235Z",
     "start_time": "2022-05-31T18:00:06.291247Z"
    }
   },
   "outputs": [
    {
     "data": {
      "text/plain": [
       "0.8"
      ]
     },
     "execution_count": 17,
     "metadata": {},
     "output_type": "execute_result"
    }
   ],
   "source": [
    "test_accu=np.mean(test.sales==model.predict(test[X]))\n",
    "test_accu"
   ]
  },
  {
   "cell_type": "code",
   "execution_count": 18,
   "id": "49991d58",
   "metadata": {
    "ExecuteTime": {
     "end_time": "2022-05-31T18:00:06.379215Z",
     "start_time": "2022-05-31T18:00:06.320236Z"
    }
   },
   "outputs": [
    {
     "data": {
      "text/html": [
       "<div>\n",
       "<style scoped>\n",
       "    .dataframe tbody tr th:only-of-type {\n",
       "        vertical-align: middle;\n",
       "    }\n",
       "\n",
       "    .dataframe tbody tr th {\n",
       "        vertical-align: top;\n",
       "    }\n",
       "\n",
       "    .dataframe thead th {\n",
       "        text-align: right;\n",
       "    }\n",
       "</style>\n",
       "<table border=\"1\" class=\"dataframe\">\n",
       "  <thead>\n",
       "    <tr style=\"text-align: right;\">\n",
       "      <th>col_0</th>\n",
       "      <th>0</th>\n",
       "      <th>1</th>\n",
       "    </tr>\n",
       "    <tr>\n",
       "      <th>sales</th>\n",
       "      <th></th>\n",
       "      <th></th>\n",
       "    </tr>\n",
       "  </thead>\n",
       "  <tbody>\n",
       "    <tr>\n",
       "      <th>0</th>\n",
       "      <td>46</td>\n",
       "      <td>17</td>\n",
       "    </tr>\n",
       "    <tr>\n",
       "      <th>1</th>\n",
       "      <td>7</td>\n",
       "      <td>50</td>\n",
       "    </tr>\n",
       "  </tbody>\n",
       "</table>\n",
       "</div>"
      ],
      "text/plain": [
       "col_0   0   1\n",
       "sales        \n",
       "0      46  17\n",
       "1       7  50"
      ]
     },
     "execution_count": 18,
     "metadata": {},
     "output_type": "execute_result"
    }
   ],
   "source": [
    "test_crosstab=pd.crosstab(test[Y],test_pred)\n",
    "test_crosstab"
   ]
  },
  {
   "cell_type": "code",
   "execution_count": 19,
   "id": "7f56cf3c",
   "metadata": {
    "ExecuteTime": {
     "end_time": "2022-05-31T18:00:06.425507Z",
     "start_time": "2022-05-31T18:00:06.382215Z"
    }
   },
   "outputs": [
    {
     "data": {
      "text/plain": [
       "DecisionTreeClassifier(max_depth=3)"
      ]
     },
     "execution_count": 19,
     "metadata": {},
     "output_type": "execute_result"
    }
   ],
   "source": [
    "model_gini = DecisionTreeClassifier(criterion='gini',max_depth=3)\n",
    "model_gini.fit(train[X],train[Y])"
   ]
  },
  {
   "cell_type": "code",
   "execution_count": 20,
   "id": "efff9d17",
   "metadata": {
    "ExecuteTime": {
     "end_time": "2022-05-31T18:00:06.457275Z",
     "start_time": "2022-05-31T18:00:06.429510Z"
    }
   },
   "outputs": [],
   "source": [
    "y_gini_pred= model_gini.predict(test[X])"
   ]
  },
  {
   "cell_type": "code",
   "execution_count": 21,
   "id": "0b9c14e6",
   "metadata": {
    "ExecuteTime": {
     "end_time": "2022-05-31T18:00:06.502268Z",
     "start_time": "2022-05-31T18:00:06.465277Z"
    }
   },
   "outputs": [
    {
     "data": {
      "text/html": [
       "<div>\n",
       "<style scoped>\n",
       "    .dataframe tbody tr th:only-of-type {\n",
       "        vertical-align: middle;\n",
       "    }\n",
       "\n",
       "    .dataframe tbody tr th {\n",
       "        vertical-align: top;\n",
       "    }\n",
       "\n",
       "    .dataframe thead th {\n",
       "        text-align: right;\n",
       "    }\n",
       "</style>\n",
       "<table border=\"1\" class=\"dataframe\">\n",
       "  <thead>\n",
       "    <tr style=\"text-align: right;\">\n",
       "      <th>sales</th>\n",
       "      <th>0</th>\n",
       "      <th>1</th>\n",
       "    </tr>\n",
       "    <tr>\n",
       "      <th>row_0</th>\n",
       "      <th></th>\n",
       "      <th></th>\n",
       "    </tr>\n",
       "  </thead>\n",
       "  <tbody>\n",
       "    <tr>\n",
       "      <th>0</th>\n",
       "      <td>53</td>\n",
       "      <td>24</td>\n",
       "    </tr>\n",
       "    <tr>\n",
       "      <th>1</th>\n",
       "      <td>10</td>\n",
       "      <td>33</td>\n",
       "    </tr>\n",
       "  </tbody>\n",
       "</table>\n",
       "</div>"
      ],
      "text/plain": [
       "sales   0   1\n",
       "row_0        \n",
       "0      53  24\n",
       "1      10  33"
      ]
     },
     "execution_count": 21,
     "metadata": {},
     "output_type": "execute_result"
    }
   ],
   "source": [
    "pd.crosstab(y_gini_pred,test[Y])"
   ]
  },
  {
   "cell_type": "code",
   "execution_count": 22,
   "id": "06859556",
   "metadata": {
    "ExecuteTime": {
     "end_time": "2022-05-31T18:00:06.534257Z",
     "start_time": "2022-05-31T18:00:06.505264Z"
    }
   },
   "outputs": [
    {
     "data": {
      "text/plain": [
       "0.7166666666666667"
      ]
     },
     "execution_count": 22,
     "metadata": {},
     "output_type": "execute_result"
    }
   ],
   "source": [
    "from sklearn.metrics import accuracy_score\n",
    "accuracy_score(y_gini_pred , test[Y])"
   ]
  },
  {
   "cell_type": "markdown",
   "id": "a5402baa",
   "metadata": {},
   "source": [
    "## Output\n",
    "### we got 72% of accuracy on test data\n",
    "- We get 86 variables correctly calassified and 34 wrongly predicted by the model."
   ]
  }
 ],
 "metadata": {
  "kernelspec": {
   "display_name": "Python 3 (ipykernel)",
   "language": "python",
   "name": "python3"
  },
  "language_info": {
   "codemirror_mode": {
    "name": "ipython",
    "version": 3
   },
   "file_extension": ".py",
   "mimetype": "text/x-python",
   "name": "python",
   "nbconvert_exporter": "python",
   "pygments_lexer": "ipython3",
   "version": "3.9.7"
  }
 },
 "nbformat": 4,
 "nbformat_minor": 5
}
